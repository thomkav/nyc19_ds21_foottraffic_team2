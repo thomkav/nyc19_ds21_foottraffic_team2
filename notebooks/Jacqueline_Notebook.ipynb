{
 "cells": [
  {
   "cell_type": "code",
   "execution_count": 153,
   "metadata": {},
   "outputs": [],
   "source": [
    "import pandas as pd\n",
    "import numpy as np\n",
    "import holidays #install holidays"
   ]
  },
  {
   "cell_type": "code",
   "execution_count": 52,
   "metadata": {},
   "outputs": [],
   "source": [
    "#df = pd.read_csv(\"/Users/JacKuo14/Documents/Metis/mta_data.csv\")\n",
    "df_orig = pd.read_csv(\"/Users/JacKuo14/Documents/Metis/nyc19_ds21_foottraffic_team2/data/mta_data_small.csv.zip\")\n",
    "df = df_orig.iloc[:, 1:] #remove first column"
   ]
  },
  {
   "cell_type": "code",
   "execution_count": 30,
   "metadata": {},
   "outputs": [],
   "source": [
    "#df['ENTRIES'] = df.ENTRIES-df.ENTRIES.shift(1)\n",
    "#df['EXITS'] = df.EXITS-df.EXITS.shift(1)"
   ]
  },
  {
   "cell_type": "code",
   "execution_count": 101,
   "metadata": {},
   "outputs": [],
   "source": [
    "#clean up the columns\n",
    "df.columns = [col.strip() for col in df.columns]\n",
    "#df.columns\n",
    "\n",
    "#Add DATETIME column\n",
    "df['DATE_TIME'] = df['DATE'] + \" \" + df['TIME']\n",
    "df['DATE_TIME'] = pd.to_datetime(df['DATE_TIME'])"
   ]
  },
  {
   "cell_type": "code",
   "execution_count": 109,
   "metadata": {},
   "outputs": [],
   "source": [
    "#Add Day of Week\n",
    "df['DAY_OF_WEEK'] = df['DATE_TIME'].dt.dayofweek.map({0: \"Monday\", 1: \"Tuesday\", 2: \"Wednesday\", 3: \"Thursday\", 4: \"Friday\", 5: \"Saturday\", 6:\"Sunday\"})"
   ]
  },
  {
   "cell_type": "code",
   "execution_count": 164,
   "metadata": {},
   "outputs": [],
   "source": [
    "#Add Month\n",
    "df['MONTH'] = pd.DatetimeIndex(df['DATE_TIME']).month.map({1:'January', \n",
    "                                                            2: 'February',\n",
    "                                                            3: 'March',\n",
    "                                                            4: 'April',\n",
    "                                                            5: 'May',\n",
    "                                                            6: 'June',\n",
    "                                                            7: 'July', \n",
    "                                                            8: 'August', \n",
    "                                                            9: 'Septemner', \n",
    "                                                            10: 'October', \n",
    "                                                            11: 'November', \n",
    "                                                            12: 'December'})\n",
    "\n",
    "#Add Year\n",
    "df['YEAR'] = pd.DatetimeIndex(df['DATE_TIME']).year\n",
    "\n",
    "#Add Holiday\n",
    "us_holidays = holidays.UnitedStates(years = [2018, 2019])\n",
    "df['HOLIDAY'] = pd.to_datetime(df['DATE']).isin(us_holidays)\n"
   ]
  },
  {
   "cell_type": "code",
   "execution_count": 148,
   "metadata": {},
   "outputs": [
    {
     "data": {
      "text/plain": [
       "numpy.int64"
      ]
     },
     "execution_count": 148,
     "metadata": {},
     "output_type": "execute_result"
    }
   ],
   "source": [
    "type(df['MONTH'][1])"
   ]
  },
  {
   "cell_type": "code",
   "execution_count": 150,
   "metadata": {},
   "outputs": [],
   "source": [
    "df['MONTH'] = df['MONTH'].map({1:'January', \n",
    "                2: 'February',\n",
    "                3: 'March',\n",
    "                4: 'April',\n",
    "                5: 'May',\n",
    "                6: 'June',\n",
    "                7: 'July', \n",
    "                8: 'August', \n",
    "                9: 'Septemner', \n",
    "                10: 'October', \n",
    "                11: 'November', \n",
    "                12: 'December'})"
   ]
  },
  {
   "cell_type": "code",
   "execution_count": 162,
   "metadata": {},
   "outputs": [],
   "source": [
    "us_holidays = holidays.UnitedStates(years = [2018, 2019])\n",
    "#for ptr in holidays.UnitedStates(years = [2018, 2019]).items(): \n",
    "#print(ptr)"
   ]
  },
  {
   "cell_type": "code",
   "execution_count": 163,
   "metadata": {},
   "outputs": [
    {
     "data": {
      "text/plain": [
       "{datetime.date(2018, 1, 1): \"New Year's Day\",\n",
       " datetime.date(2018, 1, 15): 'Martin Luther King, Jr. Day',\n",
       " datetime.date(2018, 2, 19): \"Washington's Birthday\",\n",
       " datetime.date(2018, 5, 28): 'Memorial Day',\n",
       " datetime.date(2018, 7, 4): 'Independence Day',\n",
       " datetime.date(2018, 9, 3): 'Labor Day',\n",
       " datetime.date(2018, 10, 8): 'Columbus Day',\n",
       " datetime.date(2018, 11, 11): 'Veterans Day',\n",
       " datetime.date(2018, 11, 12): 'Veterans Day (Observed)',\n",
       " datetime.date(2018, 11, 22): 'Thanksgiving',\n",
       " datetime.date(2018, 12, 25): 'Christmas Day',\n",
       " datetime.date(2019, 1, 1): \"New Year's Day\",\n",
       " datetime.date(2019, 1, 21): 'Martin Luther King, Jr. Day',\n",
       " datetime.date(2019, 2, 18): \"Washington's Birthday\",\n",
       " datetime.date(2019, 5, 27): 'Memorial Day',\n",
       " datetime.date(2019, 7, 4): 'Independence Day',\n",
       " datetime.date(2019, 9, 2): 'Labor Day',\n",
       " datetime.date(2019, 10, 14): 'Columbus Day',\n",
       " datetime.date(2019, 11, 11): 'Veterans Day',\n",
       " datetime.date(2019, 11, 28): 'Thanksgiving',\n",
       " datetime.date(2019, 12, 25): 'Christmas Day'}"
      ]
     },
     "execution_count": 163,
     "metadata": {},
     "output_type": "execute_result"
    }
   ],
   "source": [
    "us_holidays"
   ]
  },
  {
   "cell_type": "code",
   "execution_count": 141,
   "metadata": {
    "scrolled": true
   },
   "outputs": [],
   "source": [
    "df_time = df[df['TIME'].isin(list(df['TIME'].value_counts().reset_index()['index'][:24]))]"
   ]
  },
  {
   "cell_type": "code",
   "execution_count": 143,
   "metadata": {},
   "outputs": [
    {
     "data": {
      "text/plain": [
       "362"
      ]
     },
     "execution_count": 143,
     "metadata": {},
     "output_type": "execute_result"
    }
   ],
   "source": [
    "len(df_time['STATION'].unique())"
   ]
  },
  {
   "cell_type": "code",
   "execution_count": 144,
   "metadata": {},
   "outputs": [
    {
     "data": {
      "text/plain": [
       "376"
      ]
     },
     "execution_count": 144,
     "metadata": {},
     "output_type": "execute_result"
    }
   ],
   "source": [
    "len(df['STATION'].unique())"
   ]
  },
  {
   "cell_type": "code",
   "execution_count": 146,
   "metadata": {},
   "outputs": [
    {
     "data": {
      "text/plain": [
       "array(['15 ST-PROSPECT', '161/YANKEE STAD', 'CITY / BUS',\n",
       "       'JOURNAL SQUARE', 'KEW GARDENS', 'LACKAWANNA', 'NEWARK BM BW',\n",
       "       'NEWARK C', 'NEWARK HW BMEBE', 'PATH NEW WTC', 'PATH WTC 2',\n",
       "       'PAVONIA/NEWPORT', 'THIRTY ST', 'TWENTY THIRD ST'], dtype='<U15')"
      ]
     },
     "execution_count": 146,
     "metadata": {},
     "output_type": "execute_result"
    }
   ],
   "source": [
    "np.setdiff1d(list(df['STATION'].unique()), list(df_time['STATION'].unique()))"
   ]
  },
  {
   "cell_type": "code",
   "execution_count": 90,
   "metadata": {},
   "outputs": [
    {
     "data": {
      "text/plain": [
       "dtype('<M8[ns]')"
      ]
     },
     "execution_count": 90,
     "metadata": {},
     "output_type": "execute_result"
    }
   ],
   "source": [
    "df['new_col'].dtype"
   ]
  },
  {
   "cell_type": "code",
   "execution_count": 96,
   "metadata": {},
   "outputs": [
    {
     "data": {
      "text/plain": [
       "Timedelta('0 days 04:00:00')"
      ]
     },
     "execution_count": 96,
     "metadata": {},
     "output_type": "execute_result"
    }
   ],
   "source": [
    "df['new_col'][1] - df['new_col'][0]"
   ]
  },
  {
   "cell_type": "code",
   "execution_count": null,
   "metadata": {},
   "outputs": [],
   "source": []
  },
  {
   "cell_type": "code",
   "execution_count": 51,
   "metadata": {
    "scrolled": true
   },
   "outputs": [
    {
     "data": {
      "text/html": [
       "<div>\n",
       "<style scoped>\n",
       "    .dataframe tbody tr th:only-of-type {\n",
       "        vertical-align: middle;\n",
       "    }\n",
       "\n",
       "    .dataframe tbody tr th {\n",
       "        vertical-align: top;\n",
       "    }\n",
       "\n",
       "    .dataframe thead th {\n",
       "        text-align: right;\n",
       "    }\n",
       "</style>\n",
       "<table border=\"1\" class=\"dataframe\">\n",
       "  <thead>\n",
       "    <tr style=\"text-align: right;\">\n",
       "      <th></th>\n",
       "      <th>C/A</th>\n",
       "      <th>UNIT</th>\n",
       "      <th>SCP</th>\n",
       "      <th>STATION</th>\n",
       "      <th>LINENAME</th>\n",
       "      <th>DIVISION</th>\n",
       "      <th>DATE</th>\n",
       "      <th>TIME</th>\n",
       "      <th>DESC</th>\n",
       "      <th>ENTRIES</th>\n",
       "      <th>EXITS</th>\n",
       "    </tr>\n",
       "  </thead>\n",
       "  <tbody>\n",
       "    <tr>\n",
       "      <td>0</td>\n",
       "      <td>A002</td>\n",
       "      <td>R051</td>\n",
       "      <td>02-00-00</td>\n",
       "      <td>59 ST</td>\n",
       "      <td>NQR456W</td>\n",
       "      <td>BMT</td>\n",
       "      <td>08/25/2018</td>\n",
       "      <td>00:00:00</td>\n",
       "      <td>REGULAR</td>\n",
       "      <td>NaN</td>\n",
       "      <td>NaN</td>\n",
       "    </tr>\n",
       "    <tr>\n",
       "      <td>1</td>\n",
       "      <td>A002</td>\n",
       "      <td>R051</td>\n",
       "      <td>02-00-00</td>\n",
       "      <td>59 ST</td>\n",
       "      <td>NQR456W</td>\n",
       "      <td>BMT</td>\n",
       "      <td>08/25/2018</td>\n",
       "      <td>04:00:00</td>\n",
       "      <td>REGULAR</td>\n",
       "      <td>20.0</td>\n",
       "      <td>4.0</td>\n",
       "    </tr>\n",
       "    <tr>\n",
       "      <td>2</td>\n",
       "      <td>A002</td>\n",
       "      <td>R051</td>\n",
       "      <td>02-00-00</td>\n",
       "      <td>59 ST</td>\n",
       "      <td>NQR456W</td>\n",
       "      <td>BMT</td>\n",
       "      <td>08/25/2018</td>\n",
       "      <td>08:00:00</td>\n",
       "      <td>REGULAR</td>\n",
       "      <td>18.0</td>\n",
       "      <td>41.0</td>\n",
       "    </tr>\n",
       "    <tr>\n",
       "      <td>3</td>\n",
       "      <td>A002</td>\n",
       "      <td>R051</td>\n",
       "      <td>02-00-00</td>\n",
       "      <td>59 ST</td>\n",
       "      <td>NQR456W</td>\n",
       "      <td>BMT</td>\n",
       "      <td>08/25/2018</td>\n",
       "      <td>12:00:00</td>\n",
       "      <td>REGULAR</td>\n",
       "      <td>75.0</td>\n",
       "      <td>85.0</td>\n",
       "    </tr>\n",
       "    <tr>\n",
       "      <td>4</td>\n",
       "      <td>A002</td>\n",
       "      <td>R051</td>\n",
       "      <td>02-00-00</td>\n",
       "      <td>59 ST</td>\n",
       "      <td>NQR456W</td>\n",
       "      <td>BMT</td>\n",
       "      <td>08/25/2018</td>\n",
       "      <td>16:00:00</td>\n",
       "      <td>REGULAR</td>\n",
       "      <td>169.0</td>\n",
       "      <td>70.0</td>\n",
       "    </tr>\n",
       "    <tr>\n",
       "      <td>...</td>\n",
       "      <td>...</td>\n",
       "      <td>...</td>\n",
       "      <td>...</td>\n",
       "      <td>...</td>\n",
       "      <td>...</td>\n",
       "      <td>...</td>\n",
       "      <td>...</td>\n",
       "      <td>...</td>\n",
       "      <td>...</td>\n",
       "      <td>...</td>\n",
       "      <td>...</td>\n",
       "    </tr>\n",
       "    <tr>\n",
       "      <td>155274</td>\n",
       "      <td>R245A</td>\n",
       "      <td>R051</td>\n",
       "      <td>01-06-01</td>\n",
       "      <td>59 ST</td>\n",
       "      <td>456NQRW</td>\n",
       "      <td>IRT</td>\n",
       "      <td>08/25/2018</td>\n",
       "      <td>04:00:00</td>\n",
       "      <td>REGULAR</td>\n",
       "      <td>5.0</td>\n",
       "      <td>26.0</td>\n",
       "    </tr>\n",
       "    <tr>\n",
       "      <td>155275</td>\n",
       "      <td>R245A</td>\n",
       "      <td>R051</td>\n",
       "      <td>01-06-01</td>\n",
       "      <td>59 ST</td>\n",
       "      <td>456NQRW</td>\n",
       "      <td>IRT</td>\n",
       "      <td>08/25/2018</td>\n",
       "      <td>08:00:00</td>\n",
       "      <td>REGULAR</td>\n",
       "      <td>0.0</td>\n",
       "      <td>10.0</td>\n",
       "    </tr>\n",
       "    <tr>\n",
       "      <td>155276</td>\n",
       "      <td>R245A</td>\n",
       "      <td>R051</td>\n",
       "      <td>01-06-01</td>\n",
       "      <td>59 ST</td>\n",
       "      <td>456NQRW</td>\n",
       "      <td>IRT</td>\n",
       "      <td>08/25/2018</td>\n",
       "      <td>12:00:00</td>\n",
       "      <td>REGULAR</td>\n",
       "      <td>3.0</td>\n",
       "      <td>123.0</td>\n",
       "    </tr>\n",
       "    <tr>\n",
       "      <td>155277</td>\n",
       "      <td>R245A</td>\n",
       "      <td>R051</td>\n",
       "      <td>01-06-01</td>\n",
       "      <td>59 ST</td>\n",
       "      <td>456NQRW</td>\n",
       "      <td>IRT</td>\n",
       "      <td>08/25/2018</td>\n",
       "      <td>16:00:00</td>\n",
       "      <td>REGULAR</td>\n",
       "      <td>9.0</td>\n",
       "      <td>289.0</td>\n",
       "    </tr>\n",
       "    <tr>\n",
       "      <td>155278</td>\n",
       "      <td>R245A</td>\n",
       "      <td>R051</td>\n",
       "      <td>01-06-01</td>\n",
       "      <td>59 ST</td>\n",
       "      <td>456NQRW</td>\n",
       "      <td>IRT</td>\n",
       "      <td>08/25/2018</td>\n",
       "      <td>20:00:00</td>\n",
       "      <td>REGULAR</td>\n",
       "      <td>6.0</td>\n",
       "      <td>304.0</td>\n",
       "    </tr>\n",
       "  </tbody>\n",
       "</table>\n",
       "<p>318 rows × 11 columns</p>\n",
       "</div>"
      ],
      "text/plain": [
       "          C/A  UNIT       SCP STATION LINENAME DIVISION        DATE      TIME  \\\n",
       "0        A002  R051  02-00-00   59 ST  NQR456W      BMT  08/25/2018  00:00:00   \n",
       "1        A002  R051  02-00-00   59 ST  NQR456W      BMT  08/25/2018  04:00:00   \n",
       "2        A002  R051  02-00-00   59 ST  NQR456W      BMT  08/25/2018  08:00:00   \n",
       "3        A002  R051  02-00-00   59 ST  NQR456W      BMT  08/25/2018  12:00:00   \n",
       "4        A002  R051  02-00-00   59 ST  NQR456W      BMT  08/25/2018  16:00:00   \n",
       "...       ...   ...       ...     ...      ...      ...         ...       ...   \n",
       "155274  R245A  R051  01-06-01   59 ST  456NQRW      IRT  08/25/2018  04:00:00   \n",
       "155275  R245A  R051  01-06-01   59 ST  456NQRW      IRT  08/25/2018  08:00:00   \n",
       "155276  R245A  R051  01-06-01   59 ST  456NQRW      IRT  08/25/2018  12:00:00   \n",
       "155277  R245A  R051  01-06-01   59 ST  456NQRW      IRT  08/25/2018  16:00:00   \n",
       "155278  R245A  R051  01-06-01   59 ST  456NQRW      IRT  08/25/2018  20:00:00   \n",
       "\n",
       "           DESC  ENTRIES  EXITS  \n",
       "0       REGULAR      NaN    NaN  \n",
       "1       REGULAR     20.0    4.0  \n",
       "2       REGULAR     18.0   41.0  \n",
       "3       REGULAR     75.0   85.0  \n",
       "4       REGULAR    169.0   70.0  \n",
       "...         ...      ...    ...  \n",
       "155274  REGULAR      5.0   26.0  \n",
       "155275  REGULAR      0.0   10.0  \n",
       "155276  REGULAR      3.0  123.0  \n",
       "155277  REGULAR      9.0  289.0  \n",
       "155278  REGULAR      6.0  304.0  \n",
       "\n",
       "[318 rows x 11 columns]"
      ]
     },
     "execution_count": 51,
     "metadata": {},
     "output_type": "execute_result"
    }
   ],
   "source": [
    "#df.head()\n",
    "df[(df['STATION'] == '59 ST') & (df['DATE'] == '08/25/2018')]"
   ]
  },
  {
   "cell_type": "markdown",
   "metadata": {},
   "source": [
    "Summary Statistics"
   ]
  },
  {
   "cell_type": "code",
   "execution_count": 57,
   "metadata": {},
   "outputs": [],
   "source": [
    "df_full = pd.read_csv(\"/Users/JacKuo14/Desktop/mta_data.csv\")"
   ]
  },
  {
   "cell_type": "code",
   "execution_count": 65,
   "metadata": {},
   "outputs": [
    {
     "data": {
      "text/plain": [
       "10759562"
      ]
     },
     "execution_count": 65,
     "metadata": {},
     "output_type": "execute_result"
    }
   ],
   "source": [
    "len(df_full)"
   ]
  },
  {
   "cell_type": "code",
   "execution_count": 58,
   "metadata": {},
   "outputs": [
    {
     "data": {
      "text/html": [
       "<div>\n",
       "<style scoped>\n",
       "    .dataframe tbody tr th:only-of-type {\n",
       "        vertical-align: middle;\n",
       "    }\n",
       "\n",
       "    .dataframe tbody tr th {\n",
       "        vertical-align: top;\n",
       "    }\n",
       "\n",
       "    .dataframe thead th {\n",
       "        text-align: right;\n",
       "    }\n",
       "</style>\n",
       "<table border=\"1\" class=\"dataframe\">\n",
       "  <thead>\n",
       "    <tr style=\"text-align: right;\">\n",
       "      <th></th>\n",
       "      <th>ENTRIES</th>\n",
       "      <th>EXITS</th>\n",
       "    </tr>\n",
       "  </thead>\n",
       "  <tbody>\n",
       "    <tr>\n",
       "      <td>count</td>\n",
       "      <td>1.075956e+07</td>\n",
       "      <td>1.075956e+07</td>\n",
       "    </tr>\n",
       "    <tr>\n",
       "      <td>mean</td>\n",
       "      <td>4.066285e+07</td>\n",
       "      <td>3.349914e+07</td>\n",
       "    </tr>\n",
       "    <tr>\n",
       "      <td>std</td>\n",
       "      <td>2.090430e+08</td>\n",
       "      <td>1.937095e+08</td>\n",
       "    </tr>\n",
       "    <tr>\n",
       "      <td>min</td>\n",
       "      <td>0.000000e+00</td>\n",
       "      <td>0.000000e+00</td>\n",
       "    </tr>\n",
       "    <tr>\n",
       "      <td>25%</td>\n",
       "      <td>4.038090e+05</td>\n",
       "      <td>1.662300e+05</td>\n",
       "    </tr>\n",
       "    <tr>\n",
       "      <td>50%</td>\n",
       "      <td>2.300797e+06</td>\n",
       "      <td>1.318980e+06</td>\n",
       "    </tr>\n",
       "    <tr>\n",
       "      <td>75%</td>\n",
       "      <td>6.835117e+06</td>\n",
       "      <td>4.705282e+06</td>\n",
       "    </tr>\n",
       "    <tr>\n",
       "      <td>max</td>\n",
       "      <td>2.129771e+09</td>\n",
       "      <td>2.124342e+09</td>\n",
       "    </tr>\n",
       "  </tbody>\n",
       "</table>\n",
       "</div>"
      ],
      "text/plain": [
       "            ENTRIES  \\\n",
       "count  1.075956e+07   \n",
       "mean   4.066285e+07   \n",
       "std    2.090430e+08   \n",
       "min    0.000000e+00   \n",
       "25%    4.038090e+05   \n",
       "50%    2.300797e+06   \n",
       "75%    6.835117e+06   \n",
       "max    2.129771e+09   \n",
       "\n",
       "       EXITS                                                                 \n",
       "count                                       1.075956e+07                     \n",
       "mean                                        3.349914e+07                     \n",
       "std                                         1.937095e+08                     \n",
       "min                                         0.000000e+00                     \n",
       "25%                                         1.662300e+05                     \n",
       "50%                                         1.318980e+06                     \n",
       "75%                                         4.705282e+06                     \n",
       "max                                         2.124342e+09                     "
      ]
     },
     "execution_count": 58,
     "metadata": {},
     "output_type": "execute_result"
    }
   ],
   "source": [
    "df_full.describe()"
   ]
  },
  {
   "cell_type": "code",
   "execution_count": 59,
   "metadata": {},
   "outputs": [
    {
     "data": {
      "text/plain": [
       "C/A                                                                     0\n",
       "UNIT                                                                    0\n",
       "SCP                                                                     0\n",
       "STATION                                                                 0\n",
       "LINENAME                                                                0\n",
       "DIVISION                                                                0\n",
       "DATE                                                                    0\n",
       "TIME                                                                    0\n",
       "DESC                                                                    0\n",
       "ENTRIES                                                                 0\n",
       "EXITS                                                                   0\n",
       "dtype: int64"
      ]
     },
     "execution_count": 59,
     "metadata": {},
     "output_type": "execute_result"
    }
   ],
   "source": [
    "df_full.isna().sum()"
   ]
  },
  {
   "cell_type": "code",
   "execution_count": 73,
   "metadata": {},
   "outputs": [
    {
     "data": {
      "text/plain": [
       "2129770911"
      ]
     },
     "execution_count": 73,
     "metadata": {},
     "output_type": "execute_result"
    }
   ],
   "source": [
    "df_full.loc"
   ]
  },
  {
   "cell_type": "code",
   "execution_count": 64,
   "metadata": {},
   "outputs": [
    {
     "ename": "TypeError",
     "evalue": "scatter() missing 1 required positional argument: 'y'",
     "output_type": "error",
     "traceback": [
      "\u001b[0;31m---------------------------------------------------------------------------\u001b[0m",
      "\u001b[0;31mTypeError\u001b[0m                                 Traceback (most recent call last)",
      "\u001b[0;32m<ipython-input-64-f9c19d406f53>\u001b[0m in \u001b[0;36m<module>\u001b[0;34m\u001b[0m\n\u001b[1;32m      3\u001b[0m \u001b[0mget_ipython\u001b[0m\u001b[0;34m(\u001b[0m\u001b[0;34m)\u001b[0m\u001b[0;34m.\u001b[0m\u001b[0mrun_line_magic\u001b[0m\u001b[0;34m(\u001b[0m\u001b[0;34m'matplotlib'\u001b[0m\u001b[0;34m,\u001b[0m \u001b[0;34m'inline '\u001b[0m\u001b[0;34m)\u001b[0m\u001b[0;34m\u001b[0m\u001b[0;34m\u001b[0m\u001b[0m\n\u001b[1;32m      4\u001b[0m \u001b[0;34m\u001b[0m\u001b[0m\n\u001b[0;32m----> 5\u001b[0;31m \u001b[0mplt\u001b[0m\u001b[0;34m.\u001b[0m\u001b[0mscatter\u001b[0m\u001b[0;34m(\u001b[0m\u001b[0mdf_full\u001b[0m\u001b[0;34m[\u001b[0m\u001b[0;34m'ENTRIES'\u001b[0m\u001b[0;34m]\u001b[0m\u001b[0;34m)\u001b[0m\u001b[0;34m\u001b[0m\u001b[0;34m\u001b[0m\u001b[0m\n\u001b[0m",
      "\u001b[0;31mTypeError\u001b[0m: scatter() missing 1 required positional argument: 'y'"
     ]
    }
   ],
   "source": [
    "import matplotlib.pyplot as plt\n",
    "# this statement allows the visuals to render within your Jupyter Notebook\n",
    "%matplotlib inline \n",
    "\n",
    "plt.scatter(df_full['ENTRIES'])"
   ]
  },
  {
   "cell_type": "code",
   "execution_count": 68,
   "metadata": {},
   "outputs": [],
   "source": [
    "df2 = pd.read_csv(\"/Users/JacKuo14/Documents/Metis/nyc19_ds21_foottraffic_team2/data/mta_stations.csv\")"
   ]
  },
  {
   "cell_type": "code",
   "execution_count": 69,
   "metadata": {},
   "outputs": [
    {
     "data": {
      "text/html": [
       "<div>\n",
       "<style scoped>\n",
       "    .dataframe tbody tr th:only-of-type {\n",
       "        vertical-align: middle;\n",
       "    }\n",
       "\n",
       "    .dataframe tbody tr th {\n",
       "        vertical-align: top;\n",
       "    }\n",
       "\n",
       "    .dataframe thead th {\n",
       "        text-align: right;\n",
       "    }\n",
       "</style>\n",
       "<table border=\"1\" class=\"dataframe\">\n",
       "  <thead>\n",
       "    <tr style=\"text-align: right;\">\n",
       "      <th></th>\n",
       "      <th>Station ID</th>\n",
       "      <th>Complex ID</th>\n",
       "      <th>GTFS Stop ID</th>\n",
       "      <th>Division</th>\n",
       "      <th>Line</th>\n",
       "      <th>Stop Name</th>\n",
       "      <th>Borough</th>\n",
       "      <th>Daytime Routes</th>\n",
       "      <th>Structure</th>\n",
       "      <th>GTFS Latitude</th>\n",
       "      <th>GTFS Longitude</th>\n",
       "      <th>North Direction Label</th>\n",
       "      <th>South Direction Label</th>\n",
       "    </tr>\n",
       "  </thead>\n",
       "  <tbody>\n",
       "    <tr>\n",
       "      <td>0</td>\n",
       "      <td>1</td>\n",
       "      <td>1</td>\n",
       "      <td>R01</td>\n",
       "      <td>BMT</td>\n",
       "      <td>Astoria</td>\n",
       "      <td>Astoria - Ditmars Blvd</td>\n",
       "      <td>Q</td>\n",
       "      <td>N W</td>\n",
       "      <td>Elevated</td>\n",
       "      <td>40.775036</td>\n",
       "      <td>-73.912034</td>\n",
       "      <td>NaN</td>\n",
       "      <td>Manhattan</td>\n",
       "    </tr>\n",
       "    <tr>\n",
       "      <td>1</td>\n",
       "      <td>2</td>\n",
       "      <td>2</td>\n",
       "      <td>R03</td>\n",
       "      <td>BMT</td>\n",
       "      <td>Astoria</td>\n",
       "      <td>Astoria Blvd</td>\n",
       "      <td>Q</td>\n",
       "      <td>N W</td>\n",
       "      <td>Elevated</td>\n",
       "      <td>40.770258</td>\n",
       "      <td>-73.917843</td>\n",
       "      <td>Ditmars Blvd</td>\n",
       "      <td>Manhattan</td>\n",
       "    </tr>\n",
       "    <tr>\n",
       "      <td>2</td>\n",
       "      <td>3</td>\n",
       "      <td>3</td>\n",
       "      <td>R04</td>\n",
       "      <td>BMT</td>\n",
       "      <td>Astoria</td>\n",
       "      <td>30 Av</td>\n",
       "      <td>Q</td>\n",
       "      <td>N W</td>\n",
       "      <td>Elevated</td>\n",
       "      <td>40.766779</td>\n",
       "      <td>-73.921479</td>\n",
       "      <td>Astoria - Ditmars Blvd</td>\n",
       "      <td>Manhattan</td>\n",
       "    </tr>\n",
       "    <tr>\n",
       "      <td>3</td>\n",
       "      <td>4</td>\n",
       "      <td>4</td>\n",
       "      <td>R05</td>\n",
       "      <td>BMT</td>\n",
       "      <td>Astoria</td>\n",
       "      <td>Broadway</td>\n",
       "      <td>Q</td>\n",
       "      <td>N W</td>\n",
       "      <td>Elevated</td>\n",
       "      <td>40.761820</td>\n",
       "      <td>-73.925508</td>\n",
       "      <td>Astoria - Ditmars Blvd</td>\n",
       "      <td>Manhattan</td>\n",
       "    </tr>\n",
       "    <tr>\n",
       "      <td>4</td>\n",
       "      <td>5</td>\n",
       "      <td>5</td>\n",
       "      <td>R06</td>\n",
       "      <td>BMT</td>\n",
       "      <td>Astoria</td>\n",
       "      <td>36 Av</td>\n",
       "      <td>Q</td>\n",
       "      <td>N W</td>\n",
       "      <td>Elevated</td>\n",
       "      <td>40.756804</td>\n",
       "      <td>-73.929575</td>\n",
       "      <td>Astoria - Ditmars Blvd</td>\n",
       "      <td>Manhattan</td>\n",
       "    </tr>\n",
       "  </tbody>\n",
       "</table>\n",
       "</div>"
      ],
      "text/plain": [
       "   Station ID  Complex ID GTFS Stop ID Division     Line  \\\n",
       "0           1           1          R01      BMT  Astoria   \n",
       "1           2           2          R03      BMT  Astoria   \n",
       "2           3           3          R04      BMT  Astoria   \n",
       "3           4           4          R05      BMT  Astoria   \n",
       "4           5           5          R06      BMT  Astoria   \n",
       "\n",
       "                Stop Name Borough Daytime Routes Structure  GTFS Latitude  \\\n",
       "0  Astoria - Ditmars Blvd       Q            N W  Elevated      40.775036   \n",
       "1            Astoria Blvd       Q            N W  Elevated      40.770258   \n",
       "2                   30 Av       Q            N W  Elevated      40.766779   \n",
       "3                Broadway       Q            N W  Elevated      40.761820   \n",
       "4                   36 Av       Q            N W  Elevated      40.756804   \n",
       "\n",
       "   GTFS Longitude   North Direction Label South Direction Label  \n",
       "0      -73.912034                     NaN             Manhattan  \n",
       "1      -73.917843            Ditmars Blvd             Manhattan  \n",
       "2      -73.921479  Astoria - Ditmars Blvd             Manhattan  \n",
       "3      -73.925508  Astoria - Ditmars Blvd             Manhattan  \n",
       "4      -73.929575  Astoria - Ditmars Blvd             Manhattan  "
      ]
     },
     "execution_count": 69,
     "metadata": {},
     "output_type": "execute_result"
    }
   ],
   "source": [
    "df2.head()"
   ]
  },
  {
   "cell_type": "code",
   "execution_count": null,
   "metadata": {},
   "outputs": [],
   "source": []
  },
  {
   "cell_type": "code",
   "execution_count": 71,
   "metadata": {},
   "outputs": [
    {
     "data": {
      "text/plain": [
       "Station ID                0\n",
       "Complex ID                0\n",
       "GTFS Stop ID              0\n",
       "Division                  0\n",
       "Line                      0\n",
       "Stop Name                 0\n",
       "Borough                   0\n",
       "Daytime Routes            0\n",
       "Structure                 0\n",
       "GTFS Latitude             0\n",
       "GTFS Longitude            0\n",
       "North Direction Label    18\n",
       "South Direction Label    15\n",
       "dtype: int64"
      ]
     },
     "execution_count": 71,
     "metadata": {},
     "output_type": "execute_result"
    }
   ],
   "source": [
    "df2.isna().sum()"
   ]
  },
  {
   "cell_type": "code",
   "execution_count": 70,
   "metadata": {},
   "outputs": [
    {
     "data": {
      "text/plain": [
       "array(['Q', 'M', 'Bk', 'Bx', 'SI'], dtype=object)"
      ]
     },
     "execution_count": 70,
     "metadata": {},
     "output_type": "execute_result"
    }
   ],
   "source": [
    "df2['Borough'].unique()"
   ]
  },
  {
   "cell_type": "code",
   "execution_count": null,
   "metadata": {},
   "outputs": [],
   "source": [
    "# Number of stations in Manhattan"
   ]
  },
  {
   "cell_type": "code",
   "execution_count": 76,
   "metadata": {},
   "outputs": [
    {
     "ename": "AttributeError",
     "evalue": "'int' object has no attribute 'index'",
     "output_type": "error",
     "traceback": [
      "\u001b[0;31m---------------------------------------------------------------------------\u001b[0m",
      "\u001b[0;31mAttributeError\u001b[0m                            Traceback (most recent call last)",
      "\u001b[0;32m<ipython-input-76-6c43768e7a2f>\u001b[0m in \u001b[0;36m<module>\u001b[0;34m\u001b[0m\n\u001b[1;32m      1\u001b[0m \u001b[0mrecent_entries\u001b[0m \u001b[0;34m=\u001b[0m \u001b[0mpd\u001b[0m\u001b[0;34m.\u001b[0m\u001b[0mSeries\u001b[0m\u001b[0;34m(\u001b[0m\u001b[0;34m)\u001b[0m\u001b[0;34m\u001b[0m\u001b[0;34m\u001b[0m\u001b[0m\n\u001b[1;32m      2\u001b[0m \u001b[0;32mfor\u001b[0m \u001b[0mrow\u001b[0m\u001b[0;34m,\u001b[0m \u001b[0mindex\u001b[0m \u001b[0;32min\u001b[0m \u001b[0mdf\u001b[0m\u001b[0;34m.\u001b[0m\u001b[0mENTRIES\u001b[0m\u001b[0;34m.\u001b[0m\u001b[0mitems\u001b[0m\u001b[0;34m(\u001b[0m\u001b[0;34m)\u001b[0m\u001b[0;34m:\u001b[0m\u001b[0;34m\u001b[0m\u001b[0;34m\u001b[0m\u001b[0m\n\u001b[0;32m----> 3\u001b[0;31m     \u001b[0mrecent_entries\u001b[0m\u001b[0;34m.\u001b[0m\u001b[0mappend\u001b[0m\u001b[0;34m(\u001b[0m\u001b[0mrow\u001b[0m\u001b[0;34m.\u001b[0m\u001b[0mindex\u001b[0m\u001b[0;34m,\u001b[0m \u001b[0mturnstile_df\u001b[0m\u001b[0;34m.\u001b[0m\u001b[0miloc\u001b[0m\u001b[0;34m[\u001b[0m\u001b[0mrow\u001b[0m\u001b[0;34m]\u001b[0m\u001b[0;34m.\u001b[0m\u001b[0mentries\u001b[0m\u001b[0;34m)\u001b[0m\u001b[0;34m\u001b[0m\u001b[0;34m\u001b[0m\u001b[0m\n\u001b[0m",
      "\u001b[0;31mAttributeError\u001b[0m: 'int' object has no attribute 'index'"
     ]
    }
   ],
   "source": [
    "recent_entries = pd.Series()\n",
    "for row, index in df.ENTRIES.items():\n",
    "    recent_entries.append(row.index, turnstile_df.iloc[row].entries)"
   ]
  },
  {
   "cell_type": "code",
   "execution_count": null,
   "metadata": {},
   "outputs": [],
   "source": []
  }
 ],
 "metadata": {
  "kernelspec": {
   "display_name": "Python 3",
   "language": "python",
   "name": "python3"
  },
  "language_info": {
   "codemirror_mode": {
    "name": "ipython",
    "version": 3
   },
   "file_extension": ".py",
   "mimetype": "text/x-python",
   "name": "python",
   "nbconvert_exporter": "python",
   "pygments_lexer": "ipython3",
   "version": "3.6.8"
  }
 },
 "nbformat": 4,
 "nbformat_minor": 2
}
