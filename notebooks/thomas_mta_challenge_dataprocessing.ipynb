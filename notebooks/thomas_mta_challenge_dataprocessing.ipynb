{
 "cells": [
  {
   "cell_type": "markdown",
   "metadata": {
    "toc": true
   },
   "source": [
    "<h1>Table of Contents<span class=\"tocSkip\"></span></h1>\n",
    "<div class=\"toc\"><ul class=\"toc-item\"><li><span><a href=\"#Project-01-Challenge---MTA-EDA\" data-toc-modified-id=\"Project-01-Challenge---MTA-EDA-1\"><span class=\"toc-item-num\">1&nbsp;&nbsp;</span>Project 01 Challenge - MTA EDA</a></span><ul class=\"toc-item\"><li><ul class=\"toc-item\"><li><ul class=\"toc-item\"><li><span><a href=\"#Challenge-01\" data-toc-modified-id=\"Challenge-01-1.0.0.1\"><span class=\"toc-item-num\">1.0.0.1&nbsp;&nbsp;</span>Challenge 01</a></span></li><li><span><a href=\"#Challenge-2\" data-toc-modified-id=\"Challenge-2-1.0.0.2\"><span class=\"toc-item-num\">1.0.0.2&nbsp;&nbsp;</span>Challenge 2</a></span></li><li><span><a href=\"#Challenge-3\" data-toc-modified-id=\"Challenge-3-1.0.0.3\"><span class=\"toc-item-num\">1.0.0.3&nbsp;&nbsp;</span>Challenge 3</a></span></li><li><span><a href=\"#Challenge-4\" data-toc-modified-id=\"Challenge-4-1.0.0.4\"><span class=\"toc-item-num\">1.0.0.4&nbsp;&nbsp;</span>Challenge 4</a></span></li><li><span><a href=\"#Challenge-5\" data-toc-modified-id=\"Challenge-5-1.0.0.5\"><span class=\"toc-item-num\">1.0.0.5&nbsp;&nbsp;</span>Challenge 5</a></span></li><li><span><a href=\"#Challenge-6\" data-toc-modified-id=\"Challenge-6-1.0.0.6\"><span class=\"toc-item-num\">1.0.0.6&nbsp;&nbsp;</span>Challenge 6</a></span></li><li><span><a href=\"#Challenge-7\" data-toc-modified-id=\"Challenge-7-1.0.0.7\"><span class=\"toc-item-num\">1.0.0.7&nbsp;&nbsp;</span>Challenge 7</a></span></li><li><span><a href=\"#Challenge-8\" data-toc-modified-id=\"Challenge-8-1.0.0.8\"><span class=\"toc-item-num\">1.0.0.8&nbsp;&nbsp;</span>Challenge 8</a></span></li><li><span><a href=\"#Challenge-9\" data-toc-modified-id=\"Challenge-9-1.0.0.9\"><span class=\"toc-item-num\">1.0.0.9&nbsp;&nbsp;</span>Challenge 9</a></span></li><li><span><a href=\"#Challenge-10\" data-toc-modified-id=\"Challenge-10-1.0.0.10\"><span class=\"toc-item-num\">1.0.0.10&nbsp;&nbsp;</span>Challenge 10</a></span></li></ul></li></ul></li></ul></li></ul></div>"
   ]
  },
  {
   "cell_type": "markdown",
   "metadata": {},
   "source": [
    "# Project 01 Challenge - MTA EDA\n",
    "\n",
    "Working through EDA challenges from Project 01 within class repo.\n",
    "\n",
    "-Thomas Kavanagh"
   ]
  },
  {
   "cell_type": "code",
   "execution_count": 34,
   "metadata": {
    "ExecuteTime": {
     "end_time": "2019-09-25T01:08:22.083973Z",
     "start_time": "2019-09-25T01:08:22.079032Z"
    }
   },
   "outputs": [],
   "source": [
    "import pandas as pd\n",
    "\n",
    "import matplotlib\n",
    "%matplotlib inline\n",
    "\n",
    "import numpy as np\n",
    "\n",
    "import copy"
   ]
  },
  {
   "cell_type": "markdown",
   "metadata": {},
   "source": [
    "#### Challenge 01\n",
    "\n",
    "Import CSV of turnstile data"
   ]
  },
  {
   "cell_type": "code",
   "execution_count": 19,
   "metadata": {
    "ExecuteTime": {
     "end_time": "2019-09-25T00:41:23.897665Z",
     "start_time": "2019-09-25T00:41:20.673669Z"
    },
    "scrolled": true
   },
   "outputs": [],
   "source": [
    "mta_turnstile_path = '../data/mta_data_small.csv'\n",
    "turnstile_df = pd.read_csv(mta_turnstile_path)"
   ]
  },
  {
   "cell_type": "code",
   "execution_count": 20,
   "metadata": {
    "ExecuteTime": {
     "end_time": "2019-09-25T00:41:24.012427Z",
     "start_time": "2019-09-25T00:41:23.947521Z"
    }
   },
   "outputs": [
    {
     "data": {
      "text/html": [
       "<div>\n",
       "<style scoped>\n",
       "    .dataframe tbody tr th:only-of-type {\n",
       "        vertical-align: middle;\n",
       "    }\n",
       "\n",
       "    .dataframe tbody tr th {\n",
       "        vertical-align: top;\n",
       "    }\n",
       "\n",
       "    .dataframe thead th {\n",
       "        text-align: right;\n",
       "    }\n",
       "</style>\n",
       "<table border=\"1\" class=\"dataframe\">\n",
       "  <thead>\n",
       "    <tr style=\"text-align: right;\">\n",
       "      <th></th>\n",
       "      <th>Unnamed: 0</th>\n",
       "      <th>C/A</th>\n",
       "      <th>UNIT</th>\n",
       "      <th>SCP</th>\n",
       "      <th>STATION</th>\n",
       "      <th>LINENAME</th>\n",
       "      <th>DIVISION</th>\n",
       "      <th>DATE</th>\n",
       "      <th>TIME</th>\n",
       "      <th>DESC</th>\n",
       "      <th>ENTRIES</th>\n",
       "      <th>EXITS</th>\n",
       "    </tr>\n",
       "  </thead>\n",
       "  <tbody>\n",
       "    <tr>\n",
       "      <th>1306056</th>\n",
       "      <td>1306056</td>\n",
       "      <td>PTH13</td>\n",
       "      <td>R541</td>\n",
       "      <td>00-00-05</td>\n",
       "      <td>THIRTY ST</td>\n",
       "      <td>1</td>\n",
       "      <td>PTH</td>\n",
       "      <td>10/09/2018</td>\n",
       "      <td>06:09:56</td>\n",
       "      <td>REGULAR</td>\n",
       "      <td>8019</td>\n",
       "      <td>10976</td>\n",
       "    </tr>\n",
       "    <tr>\n",
       "      <th>363208</th>\n",
       "      <td>363208</td>\n",
       "      <td>R325</td>\n",
       "      <td>R388</td>\n",
       "      <td>00-00-02</td>\n",
       "      <td>E 180 ST</td>\n",
       "      <td>25</td>\n",
       "      <td>IRT</td>\n",
       "      <td>09/05/2018</td>\n",
       "      <td>09:00:00</td>\n",
       "      <td>REGULAR</td>\n",
       "      <td>12733382</td>\n",
       "      <td>11039611</td>\n",
       "    </tr>\n",
       "    <tr>\n",
       "      <th>228222</th>\n",
       "      <td>228222</td>\n",
       "      <td>H009</td>\n",
       "      <td>R235</td>\n",
       "      <td>00-03-01</td>\n",
       "      <td>BEDFORD AV</td>\n",
       "      <td>L</td>\n",
       "      <td>BMT</td>\n",
       "      <td>09/02/2018</td>\n",
       "      <td>16:00:00</td>\n",
       "      <td>REGULAR</td>\n",
       "      <td>16497555</td>\n",
       "      <td>21960774</td>\n",
       "    </tr>\n",
       "    <tr>\n",
       "      <th>1063953</th>\n",
       "      <td>1063953</td>\n",
       "      <td>N300</td>\n",
       "      <td>R113</td>\n",
       "      <td>01-00-02</td>\n",
       "      <td>7 AV</td>\n",
       "      <td>BDE</td>\n",
       "      <td>IND</td>\n",
       "      <td>09/30/2018</td>\n",
       "      <td>13:00:00</td>\n",
       "      <td>REGULAR</td>\n",
       "      <td>5962593</td>\n",
       "      <td>9280822</td>\n",
       "    </tr>\n",
       "    <tr>\n",
       "      <th>911505</th>\n",
       "      <td>911505</td>\n",
       "      <td>PTH21</td>\n",
       "      <td>R540</td>\n",
       "      <td>01-00-01</td>\n",
       "      <td>PATH WTC 2</td>\n",
       "      <td>1</td>\n",
       "      <td>PTH</td>\n",
       "      <td>09/28/2018</td>\n",
       "      <td>03:39:09</td>\n",
       "      <td>REGULAR</td>\n",
       "      <td>340309</td>\n",
       "      <td>240708</td>\n",
       "    </tr>\n",
       "    <tr>\n",
       "      <th>1366707</th>\n",
       "      <td>1366707</td>\n",
       "      <td>R508</td>\n",
       "      <td>R346</td>\n",
       "      <td>00-05-00</td>\n",
       "      <td>COURT SQ</td>\n",
       "      <td>7</td>\n",
       "      <td>IRT</td>\n",
       "      <td>10/09/2018</td>\n",
       "      <td>08:00:00</td>\n",
       "      <td>REGULAR</td>\n",
       "      <td>117441807</td>\n",
       "      <td>0</td>\n",
       "    </tr>\n",
       "    <tr>\n",
       "      <th>188997</th>\n",
       "      <td>188997</td>\n",
       "      <td>R612</td>\n",
       "      <td>R057</td>\n",
       "      <td>01-00-04</td>\n",
       "      <td>ATL AV-BARCLAY</td>\n",
       "      <td>BDNQR2345</td>\n",
       "      <td>IRT</td>\n",
       "      <td>08/31/2018</td>\n",
       "      <td>20:00:00</td>\n",
       "      <td>REGULAR</td>\n",
       "      <td>561573</td>\n",
       "      <td>304562</td>\n",
       "    </tr>\n",
       "    <tr>\n",
       "      <th>351217</th>\n",
       "      <td>351217</td>\n",
       "      <td>R245</td>\n",
       "      <td>R051</td>\n",
       "      <td>00-03-01</td>\n",
       "      <td>59 ST</td>\n",
       "      <td>456NQRW</td>\n",
       "      <td>IRT</td>\n",
       "      <td>09/05/2018</td>\n",
       "      <td>20:00:00</td>\n",
       "      <td>REGULAR</td>\n",
       "      <td>6005943</td>\n",
       "      <td>14759510</td>\n",
       "    </tr>\n",
       "    <tr>\n",
       "      <th>993528</th>\n",
       "      <td>993528</td>\n",
       "      <td>A022</td>\n",
       "      <td>R022</td>\n",
       "      <td>01-06-00</td>\n",
       "      <td>34 ST-HERALD SQ</td>\n",
       "      <td>BDFMNQRW</td>\n",
       "      <td>BMT</td>\n",
       "      <td>10/02/2018</td>\n",
       "      <td>04:00:00</td>\n",
       "      <td>REGULAR</td>\n",
       "      <td>67525072</td>\n",
       "      <td>17999633</td>\n",
       "    </tr>\n",
       "    <tr>\n",
       "      <th>1584661</th>\n",
       "      <td>1584661</td>\n",
       "      <td>R647</td>\n",
       "      <td>R110</td>\n",
       "      <td>02-05-00</td>\n",
       "      <td>FLATBUSH AV-B.C</td>\n",
       "      <td>25</td>\n",
       "      <td>IRT</td>\n",
       "      <td>10/16/2018</td>\n",
       "      <td>01:00:00</td>\n",
       "      <td>REGULAR</td>\n",
       "      <td>1019171</td>\n",
       "      <td>1069270</td>\n",
       "    </tr>\n",
       "  </tbody>\n",
       "</table>\n",
       "</div>"
      ],
      "text/plain": [
       "         Unnamed: 0    C/A  UNIT       SCP          STATION   LINENAME  \\\n",
       "1306056     1306056  PTH13  R541  00-00-05        THIRTY ST          1   \n",
       "363208       363208   R325  R388  00-00-02         E 180 ST         25   \n",
       "228222       228222   H009  R235  00-03-01       BEDFORD AV          L   \n",
       "1063953     1063953   N300  R113  01-00-02             7 AV        BDE   \n",
       "911505       911505  PTH21  R540  01-00-01       PATH WTC 2          1   \n",
       "1366707     1366707   R508  R346  00-05-00         COURT SQ          7   \n",
       "188997       188997   R612  R057  01-00-04   ATL AV-BARCLAY  BDNQR2345   \n",
       "351217       351217   R245  R051  00-03-01            59 ST    456NQRW   \n",
       "993528       993528   A022  R022  01-06-00  34 ST-HERALD SQ   BDFMNQRW   \n",
       "1584661     1584661   R647  R110  02-05-00  FLATBUSH AV-B.C         25   \n",
       "\n",
       "        DIVISION        DATE      TIME     DESC    ENTRIES  \\\n",
       "1306056      PTH  10/09/2018  06:09:56  REGULAR       8019   \n",
       "363208       IRT  09/05/2018  09:00:00  REGULAR   12733382   \n",
       "228222       BMT  09/02/2018  16:00:00  REGULAR   16497555   \n",
       "1063953      IND  09/30/2018  13:00:00  REGULAR    5962593   \n",
       "911505       PTH  09/28/2018  03:39:09  REGULAR     340309   \n",
       "1366707      IRT  10/09/2018  08:00:00  REGULAR  117441807   \n",
       "188997       IRT  08/31/2018  20:00:00  REGULAR     561573   \n",
       "351217       IRT  09/05/2018  20:00:00  REGULAR    6005943   \n",
       "993528       BMT  10/02/2018  04:00:00  REGULAR   67525072   \n",
       "1584661      IRT  10/16/2018  01:00:00  REGULAR    1019171   \n",
       "\n",
       "         EXITS                                                                 \n",
       "1306056                                              10976                     \n",
       "363208                                            11039611                     \n",
       "228222                                            21960774                     \n",
       "1063953                                            9280822                     \n",
       "911505                                              240708                     \n",
       "1366707                                                  0                     \n",
       "188997                                              304562                     \n",
       "351217                                            14759510                     \n",
       "993528                                            17999633                     \n",
       "1584661                                            1069270                     "
      ]
     },
     "execution_count": 20,
     "metadata": {},
     "output_type": "execute_result"
    }
   ],
   "source": [
    "turnstile_df.sample(10)"
   ]
  },
  {
   "cell_type": "markdown",
   "metadata": {},
   "source": [
    "Format the columns nicely."
   ]
  },
  {
   "cell_type": "code",
   "execution_count": 23,
   "metadata": {
    "ExecuteTime": {
     "end_time": "2019-09-25T00:41:42.694871Z",
     "start_time": "2019-09-25T00:41:42.691087Z"
    },
    "scrolled": true
   },
   "outputs": [
    {
     "data": {
      "text/plain": [
       "Index(['Unnamed: 0', 'C/A', 'UNIT', 'SCP', 'STATION', 'LINENAME', 'DIVISION',\n",
       "       'DATE', 'TIME', 'DESC', 'ENTRIES',\n",
       "       'EXITS                                                               '],\n",
       "      dtype='object')"
      ]
     },
     "execution_count": 23,
     "metadata": {},
     "output_type": "execute_result"
    }
   ],
   "source": [
    "turnstile_df.columns"
   ]
  },
  {
   "cell_type": "code",
   "execution_count": 24,
   "metadata": {
    "ExecuteTime": {
     "end_time": "2019-09-25T00:41:44.396552Z",
     "start_time": "2019-09-25T00:41:44.192142Z"
    }
   },
   "outputs": [
    {
     "data": {
      "text/plain": [
       "Index(['C/A', 'UNIT', 'SCP', 'STATION', 'LINENAME', 'DIVISION', 'DATE', 'TIME',\n",
       "       'DESC', 'ENTRIES',\n",
       "       'EXITS                                                               '],\n",
       "      dtype='object')"
      ]
     },
     "execution_count": 24,
     "metadata": {},
     "output_type": "execute_result"
    }
   ],
   "source": [
    "# The first column is a duplicate of the index.\n",
    "# Let's drop it.\n",
    "turnstile_df.drop('Unnamed: 0', axis=1, inplace=True)\n",
    "turnstile_df.columns"
   ]
  },
  {
   "cell_type": "code",
   "execution_count": 26,
   "metadata": {
    "ExecuteTime": {
     "end_time": "2019-09-25T00:41:57.664080Z",
     "start_time": "2019-09-25T00:41:57.319603Z"
    }
   },
   "outputs": [
    {
     "data": {
      "text/plain": [
       "Index(['c_a', 'UNIT', 'SCP', 'STATION', 'LINENAME', 'DIVISION', 'DATE', 'TIME',\n",
       "       'DESC', 'ENTRIES',\n",
       "       'EXITS                                                               '],\n",
       "      dtype='object')"
      ]
     },
     "execution_count": 26,
     "metadata": {},
     "output_type": "execute_result"
    }
   ],
   "source": [
    "turnstile_df.rename(columns={'C/A':'c_a'}, inplace=True)\n",
    "turnstile_df.columns"
   ]
  },
  {
   "cell_type": "code",
   "execution_count": 29,
   "metadata": {
    "ExecuteTime": {
     "end_time": "2019-09-25T00:43:40.612431Z",
     "start_time": "2019-09-25T00:43:36.702881Z"
    }
   },
   "outputs": [
    {
     "data": {
      "text/plain": [
       "Index(['c_a', 'unit', 'scp', 'station', 'linename', 'division', 'date', 'time',\n",
       "       'desc', 'entries', 'exits'],\n",
       "      dtype='object')"
      ]
     },
     "execution_count": 29,
     "metadata": {},
     "output_type": "execute_result"
    }
   ],
   "source": [
    "for col in list(turnstile_df.columns):\n",
    "    turnstile_df.rename(columns={col : col.lower().strip()}, inplace=True)\n",
    "    \n",
    "turnstile_df.columns"
   ]
  },
  {
   "cell_type": "code",
   "execution_count": 30,
   "metadata": {
    "ExecuteTime": {
     "end_time": "2019-09-25T00:44:25.454772Z",
     "start_time": "2019-09-25T00:44:25.441760Z"
    },
    "scrolled": true
   },
   "outputs": [
    {
     "data": {
      "text/html": [
       "<div>\n",
       "<style scoped>\n",
       "    .dataframe tbody tr th:only-of-type {\n",
       "        vertical-align: middle;\n",
       "    }\n",
       "\n",
       "    .dataframe tbody tr th {\n",
       "        vertical-align: top;\n",
       "    }\n",
       "\n",
       "    .dataframe thead th {\n",
       "        text-align: right;\n",
       "    }\n",
       "</style>\n",
       "<table border=\"1\" class=\"dataframe\">\n",
       "  <thead>\n",
       "    <tr style=\"text-align: right;\">\n",
       "      <th></th>\n",
       "      <th>c_a</th>\n",
       "      <th>unit</th>\n",
       "      <th>scp</th>\n",
       "      <th>station</th>\n",
       "      <th>linename</th>\n",
       "      <th>division</th>\n",
       "      <th>date</th>\n",
       "      <th>time</th>\n",
       "      <th>desc</th>\n",
       "      <th>entries</th>\n",
       "      <th>exits</th>\n",
       "    </tr>\n",
       "  </thead>\n",
       "  <tbody>\n",
       "    <tr>\n",
       "      <th>0</th>\n",
       "      <td>A002</td>\n",
       "      <td>R051</td>\n",
       "      <td>02-00-00</td>\n",
       "      <td>59 ST</td>\n",
       "      <td>NQR456W</td>\n",
       "      <td>BMT</td>\n",
       "      <td>08/25/2018</td>\n",
       "      <td>00:00:00</td>\n",
       "      <td>REGULAR</td>\n",
       "      <td>6736067</td>\n",
       "      <td>2283184</td>\n",
       "    </tr>\n",
       "    <tr>\n",
       "      <th>1</th>\n",
       "      <td>A002</td>\n",
       "      <td>R051</td>\n",
       "      <td>02-00-00</td>\n",
       "      <td>59 ST</td>\n",
       "      <td>NQR456W</td>\n",
       "      <td>BMT</td>\n",
       "      <td>08/25/2018</td>\n",
       "      <td>04:00:00</td>\n",
       "      <td>REGULAR</td>\n",
       "      <td>6736087</td>\n",
       "      <td>2283188</td>\n",
       "    </tr>\n",
       "    <tr>\n",
       "      <th>2</th>\n",
       "      <td>A002</td>\n",
       "      <td>R051</td>\n",
       "      <td>02-00-00</td>\n",
       "      <td>59 ST</td>\n",
       "      <td>NQR456W</td>\n",
       "      <td>BMT</td>\n",
       "      <td>08/25/2018</td>\n",
       "      <td>08:00:00</td>\n",
       "      <td>REGULAR</td>\n",
       "      <td>6736105</td>\n",
       "      <td>2283229</td>\n",
       "    </tr>\n",
       "    <tr>\n",
       "      <th>3</th>\n",
       "      <td>A002</td>\n",
       "      <td>R051</td>\n",
       "      <td>02-00-00</td>\n",
       "      <td>59 ST</td>\n",
       "      <td>NQR456W</td>\n",
       "      <td>BMT</td>\n",
       "      <td>08/25/2018</td>\n",
       "      <td>12:00:00</td>\n",
       "      <td>REGULAR</td>\n",
       "      <td>6736180</td>\n",
       "      <td>2283314</td>\n",
       "    </tr>\n",
       "    <tr>\n",
       "      <th>4</th>\n",
       "      <td>A002</td>\n",
       "      <td>R051</td>\n",
       "      <td>02-00-00</td>\n",
       "      <td>59 ST</td>\n",
       "      <td>NQR456W</td>\n",
       "      <td>BMT</td>\n",
       "      <td>08/25/2018</td>\n",
       "      <td>16:00:00</td>\n",
       "      <td>REGULAR</td>\n",
       "      <td>6736349</td>\n",
       "      <td>2283384</td>\n",
       "    </tr>\n",
       "  </tbody>\n",
       "</table>\n",
       "</div>"
      ],
      "text/plain": [
       "    c_a  unit       scp station linename division        date      time  \\\n",
       "0  A002  R051  02-00-00   59 ST  NQR456W      BMT  08/25/2018  00:00:00   \n",
       "1  A002  R051  02-00-00   59 ST  NQR456W      BMT  08/25/2018  04:00:00   \n",
       "2  A002  R051  02-00-00   59 ST  NQR456W      BMT  08/25/2018  08:00:00   \n",
       "3  A002  R051  02-00-00   59 ST  NQR456W      BMT  08/25/2018  12:00:00   \n",
       "4  A002  R051  02-00-00   59 ST  NQR456W      BMT  08/25/2018  16:00:00   \n",
       "\n",
       "      desc  entries    exits  \n",
       "0  REGULAR  6736067  2283184  \n",
       "1  REGULAR  6736087  2283188  \n",
       "2  REGULAR  6736105  2283229  \n",
       "3  REGULAR  6736180  2283314  \n",
       "4  REGULAR  6736349  2283384  "
      ]
     },
     "execution_count": 30,
     "metadata": {},
     "output_type": "execute_result"
    }
   ],
   "source": [
    "turnstile_df.head()"
   ]
  },
  {
   "cell_type": "markdown",
   "metadata": {
    "ExecuteTime": {
     "end_time": "2019-09-25T00:46:48.814810Z",
     "start_time": "2019-09-25T00:46:48.760062Z"
    }
   },
   "source": [
    "#### Challenge 2\n",
    "\n",
    "- Let's turn this into a time series.\n",
    "\n",
    "Create a new column that stores the date and time as a single pandas datetime object."
   ]
  },
  {
   "cell_type": "markdown",
   "metadata": {
    "ExecuteTime": {
     "end_time": "2019-09-25T00:46:48.814810Z",
     "start_time": "2019-09-25T00:46:48.760062Z"
    }
   },
   "source": [
    "**Optional with dictionaries**\n",
    "\n",
    " > For each key (basically the control area, unit, device address and\n",
    " station of a specific turnstile), have a list again, but let the list\n",
    " be comprised of just the point in time and the count of entries.\n",
    "\n",
    "> This basically means keeping only the date, time, and entries fields\n",
    "in each list. You can convert the date and time into datetime objects\n",
    "-- That is a python class that represents a point in time. You can\n",
    "combine the date and time fields into a string and use the\n",
    "[dateutil](https://labix.org/python-dateutil) module to convert it\n",
    "into a datetime object. For an example check\n",
    "[this StackOverflow question](http://stackoverflow.com/questions/23385003/attributeerror-when-using-import-dateutil-and-dateutil-parser-parse-but-no).\n",
    "\n",
    "> Your new dict should look something like\n",
    "\n",
    "> {    ('A002','R051','02-00-00','LEXINGTON AVE'):\n",
    "[\n",
    "[datetime.datetime(2013, 3, 2, 3, 0), 3788],\n",
    "[datetime.datetime(2013, 3, 2, 7, 0), 2585],\n",
    "[datetime.datetime(2013, 3, 2, 12, 0), 10653],\n",
    "[datetime.datetime(2013, 3, 2, 17, 0), 11016],\n",
    "[datetime.datetime(2013, 3, 2, 23, 0), 10666],\n",
    "[datetime.datetime(2013, 3, 3, 3, 0), 10814],\n",
    "[datetime.datetime(2013, 3, 3, 7, 0), 10229],\n",
    "...\n",
    "],\n",
    "....\n",
    "}"
   ]
  },
  {
   "cell_type": "code",
   "execution_count": null,
   "metadata": {
    "ExecuteTime": {
     "end_time": "2019-09-25T01:11:18.157851Z",
     "start_time": "2019-09-25T01:11:11.843130Z"
    }
   },
   "outputs": [],
   "source": [
    "turnstile_df['datetime'] = pd.to_datetime(turnstile_df.date + ' '+ turnstile_df.time, infer_datetime_format=True)"
   ]
  },
  {
   "cell_type": "code",
   "execution_count": 123,
   "metadata": {
    "ExecuteTime": {
     "end_time": "2019-09-25T18:07:47.991709Z",
     "start_time": "2019-09-25T18:07:47.986917Z"
    },
    "scrolled": false
   },
   "outputs": [
    {
     "data": {
      "text/plain": [
       "c_a                 object\n",
       "unit                object\n",
       "scp                 object\n",
       "station             object\n",
       "linename            object\n",
       "division            object\n",
       "date                object\n",
       "time                object\n",
       "desc                object\n",
       "entries              int64\n",
       "exits                int64\n",
       "datetime    datetime64[ns]\n",
       "dtype: object"
      ]
     },
     "execution_count": 123,
     "metadata": {},
     "output_type": "execute_result"
    }
   ],
   "source": [
    "turnstile_df.dtypes"
   ]
  },
  {
   "cell_type": "markdown",
   "metadata": {
    "ExecuteTime": {
     "end_time": "2019-09-25T00:46:48.814810Z",
     "start_time": "2019-09-25T00:46:48.760062Z"
    }
   },
   "source": [
    "#### Challenge 3\n",
    "\n",
    "- These counts are for every n hours (What is n?). Also, there's something odd about these \"counts\", what is it? \n",
    "Do they actually represent total entries for a time period, or something else? We want total daily entries, create a new dataframe with one row per turnstile/day and a column that gives total daily entries.\n",
    "\n",
    "**Optional with dictionaries**\n",
    "\n",
    "> Now make it that we again have the same keys, but now we have a single\n",
    "value for a single day, which is the total number of passengers that\n",
    "entered through this turnstile on this day."
   ]
  },
  {
   "cell_type": "code",
   "execution_count": 133,
   "metadata": {
    "ExecuteTime": {
     "end_time": "2019-09-25T18:12:43.015088Z",
     "start_time": "2019-09-25T18:12:41.782700Z"
    }
   },
   "outputs": [],
   "source": [
    "sorted_df = turnstile_df.sort_values(by=['unit','scp','datetime']).reset_index()\n",
    "sorted_df['prev_entries'] = pd.to_numeric(sorted_df.entries \n",
    "                                          - sorted_df.entries.shift(1),\n",
    "                                          downcast='signed', errors='coerce')\n",
    "\n",
    "# def clean_up_tickers(x):\n",
    "#     if x < 0:\n",
    "#         x = 0\n",
    "#     elif x > 100000:\n",
    "#         x = 100000\n",
    "#     return x\n",
    "# sorted_df - sorted_df.apply(clean_up_ticker)"
   ]
  },
  {
   "cell_type": "code",
   "execution_count": 132,
   "metadata": {
    "ExecuteTime": {
     "end_time": "2019-09-25T18:12:37.745759Z",
     "start_time": "2019-09-25T18:12:37.739386Z"
    }
   },
   "outputs": [
    {
     "data": {
      "text/plain": [
       "index                    int64\n",
       "c_a                     object\n",
       "unit                    object\n",
       "scp                     object\n",
       "station                 object\n",
       "linename                object\n",
       "division                object\n",
       "date                    object\n",
       "time                    object\n",
       "desc                    object\n",
       "entries                  int64\n",
       "exits                    int64\n",
       "datetime        datetime64[ns]\n",
       "prev_entries           float64\n",
       "dtype: object"
      ]
     },
     "execution_count": 132,
     "metadata": {},
     "output_type": "execute_result"
    }
   ],
   "source": [
    "sorted_df.dtypes"
   ]
  },
  {
   "cell_type": "markdown",
   "metadata": {},
   "source": [
    "The prev_entries columns don't make sense at the first row and the junctions between distinct turnstiles. These values that are non-positive should be 0."
   ]
  },
  {
   "cell_type": "code",
   "execution_count": 112,
   "metadata": {
    "ExecuteTime": {
     "end_time": "2019-09-25T17:47:00.536965Z",
     "start_time": "2019-09-25T17:47:00.521643Z"
    },
    "scrolled": true
   },
   "outputs": [
    {
     "data": {
      "text/html": [
       "<div>\n",
       "<style scoped>\n",
       "    .dataframe tbody tr th:only-of-type {\n",
       "        vertical-align: middle;\n",
       "    }\n",
       "\n",
       "    .dataframe tbody tr th {\n",
       "        vertical-align: top;\n",
       "    }\n",
       "\n",
       "    .dataframe thead th {\n",
       "        text-align: right;\n",
       "    }\n",
       "</style>\n",
       "<table border=\"1\" class=\"dataframe\">\n",
       "  <thead>\n",
       "    <tr style=\"text-align: right;\">\n",
       "      <th></th>\n",
       "      <th>index</th>\n",
       "      <th>c_a</th>\n",
       "      <th>unit</th>\n",
       "      <th>scp</th>\n",
       "      <th>station</th>\n",
       "      <th>linename</th>\n",
       "      <th>division</th>\n",
       "      <th>date</th>\n",
       "      <th>time</th>\n",
       "      <th>desc</th>\n",
       "      <th>entries</th>\n",
       "      <th>exits</th>\n",
       "      <th>datetime</th>\n",
       "      <th>prev_entries</th>\n",
       "    </tr>\n",
       "  </thead>\n",
       "  <tbody>\n",
       "    <tr>\n",
       "      <th>0</th>\n",
       "      <td>10695</td>\n",
       "      <td>A060</td>\n",
       "      <td>R001</td>\n",
       "      <td>00-00-00</td>\n",
       "      <td>WHITEHALL S-FRY</td>\n",
       "      <td>R1W</td>\n",
       "      <td>BMT</td>\n",
       "      <td>08/25/2018</td>\n",
       "      <td>01:00:00</td>\n",
       "      <td>REGULAR</td>\n",
       "      <td>3560252</td>\n",
       "      <td>2381773</td>\n",
       "      <td>2018-08-25 01:00:00</td>\n",
       "      <td>NaN</td>\n",
       "    </tr>\n",
       "    <tr>\n",
       "      <th>1</th>\n",
       "      <td>10696</td>\n",
       "      <td>A060</td>\n",
       "      <td>R001</td>\n",
       "      <td>00-00-00</td>\n",
       "      <td>WHITEHALL S-FRY</td>\n",
       "      <td>R1W</td>\n",
       "      <td>BMT</td>\n",
       "      <td>08/25/2018</td>\n",
       "      <td>05:00:00</td>\n",
       "      <td>REGULAR</td>\n",
       "      <td>3560299</td>\n",
       "      <td>2381798</td>\n",
       "      <td>2018-08-25 05:00:00</td>\n",
       "      <td>47.0</td>\n",
       "    </tr>\n",
       "    <tr>\n",
       "      <th>2</th>\n",
       "      <td>10697</td>\n",
       "      <td>A060</td>\n",
       "      <td>R001</td>\n",
       "      <td>00-00-00</td>\n",
       "      <td>WHITEHALL S-FRY</td>\n",
       "      <td>R1W</td>\n",
       "      <td>BMT</td>\n",
       "      <td>08/25/2018</td>\n",
       "      <td>09:00:00</td>\n",
       "      <td>REGULAR</td>\n",
       "      <td>3560526</td>\n",
       "      <td>2381855</td>\n",
       "      <td>2018-08-25 09:00:00</td>\n",
       "      <td>227.0</td>\n",
       "    </tr>\n",
       "    <tr>\n",
       "      <th>3</th>\n",
       "      <td>10698</td>\n",
       "      <td>A060</td>\n",
       "      <td>R001</td>\n",
       "      <td>00-00-00</td>\n",
       "      <td>WHITEHALL S-FRY</td>\n",
       "      <td>R1W</td>\n",
       "      <td>BMT</td>\n",
       "      <td>08/25/2018</td>\n",
       "      <td>13:00:00</td>\n",
       "      <td>REGULAR</td>\n",
       "      <td>3560904</td>\n",
       "      <td>2382167</td>\n",
       "      <td>2018-08-25 13:00:00</td>\n",
       "      <td>378.0</td>\n",
       "    </tr>\n",
       "    <tr>\n",
       "      <th>4</th>\n",
       "      <td>10699</td>\n",
       "      <td>A060</td>\n",
       "      <td>R001</td>\n",
       "      <td>00-00-00</td>\n",
       "      <td>WHITEHALL S-FRY</td>\n",
       "      <td>R1W</td>\n",
       "      <td>BMT</td>\n",
       "      <td>08/25/2018</td>\n",
       "      <td>17:00:00</td>\n",
       "      <td>REGULAR</td>\n",
       "      <td>3561591</td>\n",
       "      <td>2382306</td>\n",
       "      <td>2018-08-25 17:00:00</td>\n",
       "      <td>687.0</td>\n",
       "    </tr>\n",
       "  </tbody>\n",
       "</table>\n",
       "</div>"
      ],
      "text/plain": [
       "   index   c_a  unit       scp          station linename division        date  \\\n",
       "0  10695  A060  R001  00-00-00  WHITEHALL S-FRY      R1W      BMT  08/25/2018   \n",
       "1  10696  A060  R001  00-00-00  WHITEHALL S-FRY      R1W      BMT  08/25/2018   \n",
       "2  10697  A060  R001  00-00-00  WHITEHALL S-FRY      R1W      BMT  08/25/2018   \n",
       "3  10698  A060  R001  00-00-00  WHITEHALL S-FRY      R1W      BMT  08/25/2018   \n",
       "4  10699  A060  R001  00-00-00  WHITEHALL S-FRY      R1W      BMT  08/25/2018   \n",
       "\n",
       "       time     desc  entries    exits            datetime  prev_entries  \n",
       "0  01:00:00  REGULAR  3560252  2381773 2018-08-25 01:00:00           NaN  \n",
       "1  05:00:00  REGULAR  3560299  2381798 2018-08-25 05:00:00          47.0  \n",
       "2  09:00:00  REGULAR  3560526  2381855 2018-08-25 09:00:00         227.0  \n",
       "3  13:00:00  REGULAR  3560904  2382167 2018-08-25 13:00:00         378.0  \n",
       "4  17:00:00  REGULAR  3561591  2382306 2018-08-25 17:00:00         687.0  "
      ]
     },
     "execution_count": 112,
     "metadata": {},
     "output_type": "execute_result"
    }
   ],
   "source": [
    "sorted_df.head()"
   ]
  },
  {
   "cell_type": "code",
   "execution_count": 110,
   "metadata": {
    "ExecuteTime": {
     "end_time": "2019-09-25T17:41:58.607268Z",
     "start_time": "2019-09-25T17:41:57.350325Z"
    },
    "scrolled": false
   },
   "outputs": [
    {
     "data": {
      "text/html": [
       "<div>\n",
       "<style scoped>\n",
       "    .dataframe tbody tr th:only-of-type {\n",
       "        vertical-align: middle;\n",
       "    }\n",
       "\n",
       "    .dataframe tbody tr th {\n",
       "        vertical-align: top;\n",
       "    }\n",
       "\n",
       "    .dataframe thead th {\n",
       "        text-align: right;\n",
       "    }\n",
       "</style>\n",
       "<table border=\"1\" class=\"dataframe\">\n",
       "  <thead>\n",
       "    <tr style=\"text-align: right;\">\n",
       "      <th></th>\n",
       "      <th>index</th>\n",
       "      <th>c_a</th>\n",
       "      <th>unit</th>\n",
       "      <th>scp</th>\n",
       "      <th>station</th>\n",
       "      <th>linename</th>\n",
       "      <th>division</th>\n",
       "      <th>date</th>\n",
       "      <th>time</th>\n",
       "      <th>desc</th>\n",
       "      <th>entries</th>\n",
       "      <th>exits</th>\n",
       "      <th>datetime</th>\n",
       "      <th>prev_entries</th>\n",
       "    </tr>\n",
       "  </thead>\n",
       "  <tbody>\n",
       "    <tr>\n",
       "      <th>385</th>\n",
       "      <td>1598035</td>\n",
       "      <td>A060</td>\n",
       "      <td>R001</td>\n",
       "      <td>00-00-00</td>\n",
       "      <td>WHITEHALL S-FRY</td>\n",
       "      <td>R1W</td>\n",
       "      <td>BMT</td>\n",
       "      <td>10/26/2018</td>\n",
       "      <td>13:00:00</td>\n",
       "      <td>REGULAR</td>\n",
       "      <td>3758264</td>\n",
       "      <td>2444384</td>\n",
       "      <td>2018-10-26 13:00:00</td>\n",
       "      <td>657.0</td>\n",
       "    </tr>\n",
       "    <tr>\n",
       "      <th>386</th>\n",
       "      <td>1598036</td>\n",
       "      <td>A060</td>\n",
       "      <td>R001</td>\n",
       "      <td>00-00-00</td>\n",
       "      <td>WHITEHALL S-FRY</td>\n",
       "      <td>R1W</td>\n",
       "      <td>BMT</td>\n",
       "      <td>10/26/2018</td>\n",
       "      <td>17:00:00</td>\n",
       "      <td>REGULAR</td>\n",
       "      <td>3759317</td>\n",
       "      <td>2444586</td>\n",
       "      <td>2018-10-26 17:00:00</td>\n",
       "      <td>1053.0</td>\n",
       "    </tr>\n",
       "    <tr>\n",
       "      <th>387</th>\n",
       "      <td>1598037</td>\n",
       "      <td>A060</td>\n",
       "      <td>R001</td>\n",
       "      <td>00-00-00</td>\n",
       "      <td>WHITEHALL S-FRY</td>\n",
       "      <td>R1W</td>\n",
       "      <td>BMT</td>\n",
       "      <td>10/26/2018</td>\n",
       "      <td>21:00:00</td>\n",
       "      <td>REGULAR</td>\n",
       "      <td>3760439</td>\n",
       "      <td>2444814</td>\n",
       "      <td>2018-10-26 21:00:00</td>\n",
       "      <td>1122.0</td>\n",
       "    </tr>\n",
       "    <tr>\n",
       "      <th>388</th>\n",
       "      <td>10739</td>\n",
       "      <td>A060</td>\n",
       "      <td>R001</td>\n",
       "      <td>00-00-01</td>\n",
       "      <td>WHITEHALL S-FRY</td>\n",
       "      <td>R1W</td>\n",
       "      <td>BMT</td>\n",
       "      <td>08/25/2018</td>\n",
       "      <td>01:00:00</td>\n",
       "      <td>REGULAR</td>\n",
       "      <td>2928213</td>\n",
       "      <td>1944667</td>\n",
       "      <td>2018-08-25 01:00:00</td>\n",
       "      <td>-832226.0</td>\n",
       "    </tr>\n",
       "    <tr>\n",
       "      <th>389</th>\n",
       "      <td>10740</td>\n",
       "      <td>A060</td>\n",
       "      <td>R001</td>\n",
       "      <td>00-00-01</td>\n",
       "      <td>WHITEHALL S-FRY</td>\n",
       "      <td>R1W</td>\n",
       "      <td>BMT</td>\n",
       "      <td>08/25/2018</td>\n",
       "      <td>05:00:00</td>\n",
       "      <td>REGULAR</td>\n",
       "      <td>2928239</td>\n",
       "      <td>1944705</td>\n",
       "      <td>2018-08-25 05:00:00</td>\n",
       "      <td>26.0</td>\n",
       "    </tr>\n",
       "  </tbody>\n",
       "</table>\n",
       "</div>"
      ],
      "text/plain": [
       "       index   c_a  unit       scp          station linename division  \\\n",
       "385  1598035  A060  R001  00-00-00  WHITEHALL S-FRY      R1W      BMT   \n",
       "386  1598036  A060  R001  00-00-00  WHITEHALL S-FRY      R1W      BMT   \n",
       "387  1598037  A060  R001  00-00-00  WHITEHALL S-FRY      R1W      BMT   \n",
       "388    10739  A060  R001  00-00-01  WHITEHALL S-FRY      R1W      BMT   \n",
       "389    10740  A060  R001  00-00-01  WHITEHALL S-FRY      R1W      BMT   \n",
       "\n",
       "           date      time     desc  entries    exits            datetime  \\\n",
       "385  10/26/2018  13:00:00  REGULAR  3758264  2444384 2018-10-26 13:00:00   \n",
       "386  10/26/2018  17:00:00  REGULAR  3759317  2444586 2018-10-26 17:00:00   \n",
       "387  10/26/2018  21:00:00  REGULAR  3760439  2444814 2018-10-26 21:00:00   \n",
       "388  08/25/2018  01:00:00  REGULAR  2928213  1944667 2018-08-25 01:00:00   \n",
       "389  08/25/2018  05:00:00  REGULAR  2928239  1944705 2018-08-25 05:00:00   \n",
       "\n",
       "     prev_entries  \n",
       "385         657.0  \n",
       "386        1053.0  \n",
       "387        1122.0  \n",
       "388     -832226.0  \n",
       "389          26.0  "
      ]
     },
     "execution_count": 110,
     "metadata": {},
     "output_type": "execute_result"
    }
   ],
   "source": [
    "sorted_df[385:390]"
   ]
  },
  {
   "cell_type": "code",
   "execution_count": 117,
   "metadata": {
    "ExecuteTime": {
     "end_time": "2019-09-25T17:54:46.924585Z",
     "start_time": "2019-09-25T17:54:46.891581Z"
    },
    "scrolled": true
   },
   "outputs": [
    {
     "name": "stdout",
     "output_type": "stream",
     "text": [
      "index                         10739\n",
      "c_a                            A060\n",
      "unit                           R001\n",
      "scp                        00-00-01\n",
      "station             WHITEHALL S-FRY\n",
      "linename                        R1W\n",
      "division                        BMT\n",
      "date                     08/25/2018\n",
      "time                       01:00:00\n",
      "desc                        REGULAR\n",
      "entries                     2928213\n",
      "exits                       1944667\n",
      "datetime        2018-08-25 01:00:00\n",
      "prev_entries                      0\n",
      "Name: 388, dtype: object\n",
      "index                         10695\n",
      "c_a                            A060\n",
      "unit                           R001\n",
      "scp                        00-00-00\n",
      "station             WHITEHALL S-FRY\n",
      "linename                        R1W\n",
      "division                        BMT\n",
      "date                     08/25/2018\n",
      "time                       01:00:00\n",
      "desc                        REGULAR\n",
      "entries                     3560252\n",
      "exits                       2381773\n",
      "datetime        2018-08-25 01:00:00\n",
      "prev_entries                      0\n",
      "Name: 0, dtype: object\n"
     ]
    }
   ],
   "source": [
    "sorted_df.prev_entries.mask(sorted_df.prev_entries < 0, 0, inplace=True)\n",
    "sorted_df.prev_entries.mask(sorted_df.prev_entries.isnull(), 0, inplace=True)\n",
    "print(sorted_df.iloc[388])\n",
    "print(sorted_df.iloc[0])"
   ]
  },
  {
   "cell_type": "code",
   "execution_count": 122,
   "metadata": {
    "ExecuteTime": {
     "end_time": "2019-09-25T18:06:25.438588Z",
     "start_time": "2019-09-25T18:06:25.425872Z"
    }
   },
   "outputs": [
    {
     "data": {
      "text/plain": [
       "1163       1.990070e+06\n",
       "1937       1.503222e+06\n",
       "2711       2.970749e+06\n",
       "3475       1.295850e+05\n",
       "3852       2.550198e+06\n",
       "4229       1.307442e+08\n",
       "5737       2.959012e+06\n",
       "6502       1.077944e+07\n",
       "7268       1.762581e+06\n",
       "8034       1.295600e+05\n",
       "8417       1.182579e+06\n",
       "9947       1.153710e+05\n",
       "10710      1.746830e+05\n",
       "13765      4.152970e+05\n",
       "14143      1.387244e+06\n",
       "14521      2.727839e+06\n",
       "15280      4.054476e+06\n",
       "16033      2.513510e+05\n",
       "16414      4.758496e+06\n",
       "16795      1.810251e+06\n",
       "17932      6.974309e+06\n",
       "19069      1.832191e+06\n",
       "19448      3.559587e+06\n",
       "19827      2.580089e+07\n",
       "20583      1.100511e+06\n",
       "21335      4.761801e+06\n",
       "21713      1.115245e+09\n",
       "22091      9.047313e+08\n",
       "23599      5.028320e+05\n",
       "23975      2.937110e+06\n",
       "               ...     \n",
       "1772962    2.180700e+04\n",
       "1773681    1.930900e+04\n",
       "1774757    2.887900e+04\n",
       "1775116    1.006455e+06\n",
       "1777021    2.164730e+05\n",
       "1777402    4.235640e+05\n",
       "1777783    7.694900e+05\n",
       "1778163    1.147987e+08\n",
       "1778925    1.782670e+05\n",
       "1779303    9.002700e+04\n",
       "1779681    8.960600e+04\n",
       "1780059    4.441200e+04\n",
       "1780437    2.932060e+05\n",
       "1781571    2.009946e+06\n",
       "1783107    3.555490e+07\n",
       "1783582    4.587510e+05\n",
       "1784233    3.226000e+04\n",
       "1784611    6.127900e+04\n",
       "1784989    2.991100e+04\n",
       "1785367    1.533180e+05\n",
       "1785745    1.644820e+05\n",
       "1786123    2.391650e+05\n",
       "1786501    3.163790e+05\n",
       "1786879    4.472250e+05\n",
       "1787633    1.899950e+05\n",
       "1789492    8.513350e+05\n",
       "1791749    1.231700e+04\n",
       "1792126    7.333800e+04\n",
       "1792504    1.656340e+05\n",
       "1792883    2.585680e+05\n",
       "Name: prev_entries, Length: 2368, dtype: float64"
      ]
     },
     "execution_count": 122,
     "metadata": {},
     "output_type": "execute_result"
    }
   ],
   "source": [
    "sorted_df[sorted_df.prev_entries > 10000].prev_entries"
   ]
  },
  {
   "cell_type": "markdown",
   "metadata": {},
   "source": [
    "Doing the same for exits:"
   ]
  },
  {
   "cell_type": "code",
   "execution_count": 119,
   "metadata": {
    "ExecuteTime": {
     "end_time": "2019-09-25T18:03:44.094161Z",
     "start_time": "2019-09-25T18:03:43.973972Z"
    }
   },
   "outputs": [
    {
     "data": {
      "text/plain": [
       "count    1.793260e+06\n",
       "mean     7.394146e+04\n",
       "std      9.201375e+06\n",
       "min      0.000000e+00\n",
       "25%      8.000000e+00\n",
       "50%      5.100000e+01\n",
       "75%      1.640000e+02\n",
       "max      2.062243e+09\n",
       "Name: prev_exits, dtype: float64"
      ]
     },
     "execution_count": 119,
     "metadata": {},
     "output_type": "execute_result"
    }
   ],
   "source": [
    "sorted_df['prev_exits'] = sorted_df.exits - sorted_df.exits.shift(1)\n",
    "sorted_df.prev_exits.mask(sorted_df.prev_exits < 0, 0, inplace=True)\n",
    "sorted_df.prev_exits.mask(sorted_df.prev_exits.isnull(), 0, inplace=True)\n",
    "sorted_df.prev_exits.describe()"
   ]
  },
  {
   "cell_type": "markdown",
   "metadata": {
    "ExecuteTime": {
     "end_time": "2019-09-25T00:46:48.814810Z",
     "start_time": "2019-09-25T00:46:48.760062Z"
    }
   },
   "source": [
    "#### Challenge 4\n",
    "\n",
    "We will plot the daily time series for a turnstile.\n",
    "\n",
    "In ipython notebook, add this to the beginning of your next cell:\n",
    "\n",
    "    %matplotlib inline\n",
    "\n",
    "This will make your matplotlib graphs integrate nicely with the\n",
    "notebook. To plot the time series, import matplotlib with\n",
    "\n",
    "    import matplotlib.pyplot as plt\n",
    "\n",
    "Extract a list of dates and a list of counts from the dataframe, \n",
    "dates and counts. This should plot it:\n",
    "\n",
    "    plt.figure(figsize=(10,3))\n",
    "    plt.plot(dates,counts)"
   ]
  },
  {
   "cell_type": "markdown",
   "metadata": {
    "ExecuteTime": {
     "end_time": "2019-09-25T00:46:48.814810Z",
     "start_time": "2019-09-25T00:46:48.760062Z"
    }
   },
   "source": [
    "#### Challenge 5\n",
    "\n",
    "- So far we've been operating on a single turnstile level, let's\n",
    "  combine turnstiles in the same ControlArea/Unit/Station combo. There\n",
    "  are some ControlArea/Unit/Station groups that have a single\n",
    "  turnstile, but most have multiple turnstiles-- same value for the\n",
    "  C/A, UNIT and STATION columns, different values for the SCP column.\n",
    "\n",
    "We want to combine the numbers together -- for each\n",
    "ControlArea/UNIT/STATION combo, for each day, add the counts from each\n",
    "turnstile belonging to that combo."
   ]
  },
  {
   "cell_type": "markdown",
   "metadata": {
    "ExecuteTime": {
     "end_time": "2019-09-25T00:46:48.814810Z",
     "start_time": "2019-09-25T00:46:48.760062Z"
    }
   },
   "source": [
    "#### Challenge 6\n",
    "\n",
    "Similarly, combine everything in each station, and come up with a time\n",
    "series of `[(date1, count1),(date2,count2),...]` type of time series\n",
    "for each STATION, by adding up all the turnstiles in a station."
   ]
  },
  {
   "cell_type": "markdown",
   "metadata": {
    "ExecuteTime": {
     "end_time": "2019-09-25T00:46:48.814810Z",
     "start_time": "2019-09-25T00:46:48.760062Z"
    }
   },
   "source": [
    "#### Challenge 7\n",
    "\n",
    "Plot the time series for a station."
   ]
  },
  {
   "cell_type": "markdown",
   "metadata": {
    "ExecuteTime": {
     "end_time": "2019-09-25T00:46:48.814810Z",
     "start_time": "2019-09-25T00:46:48.760062Z"
    }
   },
   "source": [
    "#### Challenge 8\n",
    "\n",
    "- Make one list of counts for **one** week for one station. Monday's\n",
    "count, Tuesday's count, etc. so it's a list of 7 counts.\n",
    "Make the same list for another week, and another week, and another\n",
    "week.\n",
    "`plt.plot(week_count_list)` for every `week_count_list` you created\n",
    "this way. You should get a rainbow plot of weekly commute numbers on\n",
    "top of each other."
   ]
  },
  {
   "cell_type": "markdown",
   "metadata": {
    "ExecuteTime": {
     "end_time": "2019-09-25T00:46:48.814810Z",
     "start_time": "2019-09-25T00:46:48.760062Z"
    }
   },
   "source": [
    "#### Challenge 9\n",
    "\n",
    "- Over multiple weeks, sum total ridership for each station and sort\n",
    "  them, so you can find out the stations with the highest traffic\n",
    "  during the time you investigate"
   ]
  },
  {
   "cell_type": "markdown",
   "metadata": {
    "ExecuteTime": {
     "end_time": "2019-09-25T00:46:48.814810Z",
     "start_time": "2019-09-25T00:46:48.760062Z"
    }
   },
   "source": [
    "#### Challenge 10\n",
    "\n",
    "- Make a single list of these total ridership values and plot it with\n",
    "\n",
    "    plt.hist(total_ridership_counts)\n",
    "\n",
    "to get an idea about the distribution of total ridership among\n",
    "different stations.\n",
    "\n",
    "This should show you that most stations have a small traffic, and the\n",
    "histogram bins for large traffic volumes have small bars.\n",
    "\n",
    "*Additional Hint*:\n",
    "\n",
    "If you want to see which stations take the meat of the traffic, you\n",
    "can sort the total ridership counts and make a `plt.bar` graph. For\n",
    "this, you want to have two lists: the indices of each bar, and the\n",
    "values. The indices can just be `0,1,2,3,...`, so you can do\n",
    "\n",
    "    indices = range(len(total_ridership_values))\n",
    "    plt.bar(indices, total_ridership_values)"
   ]
  }
 ],
 "metadata": {
  "kernelspec": {
   "display_name": "Python 3",
   "language": "python",
   "name": "python3"
  },
  "language_info": {
   "codemirror_mode": {
    "name": "ipython",
    "version": 3
   },
   "file_extension": ".py",
   "mimetype": "text/x-python",
   "name": "python",
   "nbconvert_exporter": "python",
   "pygments_lexer": "ipython3",
   "version": "3.7.3"
  },
  "toc": {
   "base_numbering": 1,
   "nav_menu": {},
   "number_sections": true,
   "sideBar": true,
   "skip_h1_title": false,
   "title_cell": "Table of Contents",
   "title_sidebar": "Contents",
   "toc_cell": true,
   "toc_position": {
    "height": "calc(100% - 180px)",
    "left": "10px",
    "top": "150px",
    "width": "275.33px"
   },
   "toc_section_display": true,
   "toc_window_display": true
  },
  "varInspector": {
   "cols": {
    "lenName": 16,
    "lenType": 16,
    "lenVar": 40
   },
   "kernels_config": {
    "python": {
     "delete_cmd_postfix": "",
     "delete_cmd_prefix": "del ",
     "library": "var_list.py",
     "varRefreshCmd": "print(var_dic_list())"
    },
    "r": {
     "delete_cmd_postfix": ") ",
     "delete_cmd_prefix": "rm(",
     "library": "var_list.r",
     "varRefreshCmd": "cat(var_dic_list()) "
    }
   },
   "position": {
    "height": "311.285px",
    "left": "746.851px",
    "right": "20px",
    "top": "116.99px",
    "width": "541.858px"
   },
   "types_to_exclude": [
    "module",
    "function",
    "builtin_function_or_method",
    "instance",
    "_Feature"
   ],
   "window_display": false
  }
 },
 "nbformat": 4,
 "nbformat_minor": 2
}
