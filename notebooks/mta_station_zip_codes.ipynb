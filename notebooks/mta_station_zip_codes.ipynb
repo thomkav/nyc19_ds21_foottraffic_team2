{
 "cells": [
  {
   "cell_type": "markdown",
   "metadata": {
    "toc": true
   },
   "source": [
    "<h1>Table of Contents<span class=\"tocSkip\"></span></h1>\n",
    "<div class=\"toc\"><ul class=\"toc-item\"></ul></div>"
   ]
  },
  {
   "cell_type": "markdown",
   "metadata": {},
   "source": [
    "Filepath for MTA Data"
   ]
  },
  {
   "cell_type": "code",
   "execution_count": 2,
   "metadata": {
    "ExecuteTime": {
     "end_time": "2019-09-23T23:44:20.379016Z",
     "start_time": "2019-09-23T23:44:20.147784Z"
    }
   },
   "outputs": [],
   "source": [
    "import pandas as pd\n",
    "mta_stations_csv_path = '../data/mta_stations.csv'"
   ]
  },
  {
   "cell_type": "code",
   "execution_count": 4,
   "metadata": {
    "ExecuteTime": {
     "end_time": "2019-09-23T23:44:47.555317Z",
     "start_time": "2019-09-23T23:44:47.513879Z"
    }
   },
   "outputs": [
    {
     "data": {
      "text/html": [
       "<div>\n",
       "<style scoped>\n",
       "    .dataframe tbody tr th:only-of-type {\n",
       "        vertical-align: middle;\n",
       "    }\n",
       "\n",
       "    .dataframe tbody tr th {\n",
       "        vertical-align: top;\n",
       "    }\n",
       "\n",
       "    .dataframe thead th {\n",
       "        text-align: right;\n",
       "    }\n",
       "</style>\n",
       "<table border=\"1\" class=\"dataframe\">\n",
       "  <thead>\n",
       "    <tr style=\"text-align: right;\">\n",
       "      <th></th>\n",
       "      <th>Station ID</th>\n",
       "      <th>Complex ID</th>\n",
       "      <th>GTFS Stop ID</th>\n",
       "      <th>Division</th>\n",
       "      <th>Line</th>\n",
       "      <th>Stop Name</th>\n",
       "      <th>Borough</th>\n",
       "      <th>Daytime Routes</th>\n",
       "      <th>Structure</th>\n",
       "      <th>GTFS Latitude</th>\n",
       "      <th>GTFS Longitude</th>\n",
       "      <th>North Direction Label</th>\n",
       "      <th>South Direction Label</th>\n",
       "    </tr>\n",
       "  </thead>\n",
       "  <tbody>\n",
       "    <tr>\n",
       "      <th>0</th>\n",
       "      <td>1</td>\n",
       "      <td>1</td>\n",
       "      <td>R01</td>\n",
       "      <td>BMT</td>\n",
       "      <td>Astoria</td>\n",
       "      <td>Astoria - Ditmars Blvd</td>\n",
       "      <td>Q</td>\n",
       "      <td>N W</td>\n",
       "      <td>Elevated</td>\n",
       "      <td>40.775036</td>\n",
       "      <td>-73.912034</td>\n",
       "      <td>NaN</td>\n",
       "      <td>Manhattan</td>\n",
       "    </tr>\n",
       "    <tr>\n",
       "      <th>1</th>\n",
       "      <td>2</td>\n",
       "      <td>2</td>\n",
       "      <td>R03</td>\n",
       "      <td>BMT</td>\n",
       "      <td>Astoria</td>\n",
       "      <td>Astoria Blvd</td>\n",
       "      <td>Q</td>\n",
       "      <td>N W</td>\n",
       "      <td>Elevated</td>\n",
       "      <td>40.770258</td>\n",
       "      <td>-73.917843</td>\n",
       "      <td>Ditmars Blvd</td>\n",
       "      <td>Manhattan</td>\n",
       "    </tr>\n",
       "    <tr>\n",
       "      <th>2</th>\n",
       "      <td>3</td>\n",
       "      <td>3</td>\n",
       "      <td>R04</td>\n",
       "      <td>BMT</td>\n",
       "      <td>Astoria</td>\n",
       "      <td>30 Av</td>\n",
       "      <td>Q</td>\n",
       "      <td>N W</td>\n",
       "      <td>Elevated</td>\n",
       "      <td>40.766779</td>\n",
       "      <td>-73.921479</td>\n",
       "      <td>Astoria - Ditmars Blvd</td>\n",
       "      <td>Manhattan</td>\n",
       "    </tr>\n",
       "    <tr>\n",
       "      <th>3</th>\n",
       "      <td>4</td>\n",
       "      <td>4</td>\n",
       "      <td>R05</td>\n",
       "      <td>BMT</td>\n",
       "      <td>Astoria</td>\n",
       "      <td>Broadway</td>\n",
       "      <td>Q</td>\n",
       "      <td>N W</td>\n",
       "      <td>Elevated</td>\n",
       "      <td>40.761820</td>\n",
       "      <td>-73.925508</td>\n",
       "      <td>Astoria - Ditmars Blvd</td>\n",
       "      <td>Manhattan</td>\n",
       "    </tr>\n",
       "    <tr>\n",
       "      <th>4</th>\n",
       "      <td>5</td>\n",
       "      <td>5</td>\n",
       "      <td>R06</td>\n",
       "      <td>BMT</td>\n",
       "      <td>Astoria</td>\n",
       "      <td>36 Av</td>\n",
       "      <td>Q</td>\n",
       "      <td>N W</td>\n",
       "      <td>Elevated</td>\n",
       "      <td>40.756804</td>\n",
       "      <td>-73.929575</td>\n",
       "      <td>Astoria - Ditmars Blvd</td>\n",
       "      <td>Manhattan</td>\n",
       "    </tr>\n",
       "  </tbody>\n",
       "</table>\n",
       "</div>"
      ],
      "text/plain": [
       "   Station ID  Complex ID GTFS Stop ID Division     Line  \\\n",
       "0           1           1          R01      BMT  Astoria   \n",
       "1           2           2          R03      BMT  Astoria   \n",
       "2           3           3          R04      BMT  Astoria   \n",
       "3           4           4          R05      BMT  Astoria   \n",
       "4           5           5          R06      BMT  Astoria   \n",
       "\n",
       "                Stop Name Borough Daytime Routes Structure  GTFS Latitude  \\\n",
       "0  Astoria - Ditmars Blvd       Q            N W  Elevated      40.775036   \n",
       "1            Astoria Blvd       Q            N W  Elevated      40.770258   \n",
       "2                   30 Av       Q            N W  Elevated      40.766779   \n",
       "3                Broadway       Q            N W  Elevated      40.761820   \n",
       "4                   36 Av       Q            N W  Elevated      40.756804   \n",
       "\n",
       "   GTFS Longitude   North Direction Label South Direction Label  \n",
       "0      -73.912034                     NaN             Manhattan  \n",
       "1      -73.917843            Ditmars Blvd             Manhattan  \n",
       "2      -73.921479  Astoria - Ditmars Blvd             Manhattan  \n",
       "3      -73.925508  Astoria - Ditmars Blvd             Manhattan  \n",
       "4      -73.929575  Astoria - Ditmars Blvd             Manhattan  "
      ]
     },
     "execution_count": 4,
     "metadata": {},
     "output_type": "execute_result"
    }
   ],
   "source": [
    "mta_stations = pd.read_csv('../data/mta_stations.csv')\n",
    "\n",
    "mta_stations.head()"
   ]
  },
  {
   "cell_type": "code",
   "execution_count": 8,
   "metadata": {},
   "outputs": [
    {
     "name": "stdout",
     "output_type": "stream",
     "text": [
      "env: PIP_REQUIRE_VIRTUALENV=false\n",
      "Requirement already satisfied: pgeocode in /usr/local/anaconda3/envs/metis-bootcamp/lib/python3.7/site-packages (0.1.2)\n",
      "Requirement already satisfied: requests in /usr/local/anaconda3/envs/metis-bootcamp/lib/python3.7/site-packages (from pgeocode) (2.19.1)\n",
      "Requirement already satisfied: numpy in /usr/local/anaconda3/envs/metis-bootcamp/lib/python3.7/site-packages (from pgeocode) (1.15.1)\n",
      "Requirement already satisfied: pandas in /usr/local/anaconda3/envs/metis-bootcamp/lib/python3.7/site-packages (from pgeocode) (0.23.4)\n",
      "Requirement already satisfied: chardet<3.1.0,>=3.0.2 in /usr/local/anaconda3/envs/metis-bootcamp/lib/python3.7/site-packages (from requests->pgeocode) (3.0.4)\n",
      "Requirement already satisfied: urllib3<1.24,>=1.21.1 in /usr/local/anaconda3/envs/metis-bootcamp/lib/python3.7/site-packages (from requests->pgeocode) (1.23)\n",
      "Requirement already satisfied: idna<2.8,>=2.5 in /usr/local/anaconda3/envs/metis-bootcamp/lib/python3.7/site-packages (from requests->pgeocode) (2.7)\n",
      "Requirement already satisfied: certifi>=2017.4.17 in /usr/local/anaconda3/envs/metis-bootcamp/lib/python3.7/site-packages (from requests->pgeocode) (2019.6.16)\n",
      "Requirement already satisfied: python-dateutil>=2.5.0 in /usr/local/anaconda3/envs/metis-bootcamp/lib/python3.7/site-packages (from pandas->pgeocode) (2.7.3)\n",
      "Requirement already satisfied: pytz>=2011k in /usr/local/anaconda3/envs/metis-bootcamp/lib/python3.7/site-packages (from pandas->pgeocode) (2018.5)\n",
      "Requirement already satisfied: six>=1.5 in /usr/local/anaconda3/envs/metis-bootcamp/lib/python3.7/site-packages (from python-dateutil>=2.5.0->pandas->pgeocode) (1.11.0)\n",
      "Collecting uszipcode\n",
      "\u001b[?25l  Downloading https://files.pythonhosted.org/packages/34/e1/f828cd05732433d0074a17a2623a8c1281c5dc7fb265fef1d3867692037b/uszipcode-0.2.2-py2.py3-none-any.whl (137kB)\n",
      "\u001b[K     |████████████████████████████████| 143kB 3.5MB/s eta 0:00:01\n",
      "\u001b[?25hRequirement already satisfied: requests in /usr/local/anaconda3/envs/metis-bootcamp/lib/python3.7/site-packages (from uszipcode) (2.19.1)\n",
      "Requirement already satisfied: attrs in /usr/local/anaconda3/envs/metis-bootcamp/lib/python3.7/site-packages (from uszipcode) (18.2.0)\n",
      "Collecting pathlib-mate (from uszipcode)\n",
      "\u001b[?25l  Downloading https://files.pythonhosted.org/packages/ff/f2/a1e6044fe90784e7bbc05286f2e8616aa2ff167f7275f5a6f2df479092c0/pathlib_mate-0.0.15-py2.py3-none-any.whl (195kB)\n",
      "\u001b[K     |████████████████████████████████| 204kB 11.8MB/s eta 0:00:01\n",
      "\u001b[?25hRequirement already satisfied: sqlalchemy in /usr/local/anaconda3/envs/metis-bootcamp/lib/python3.7/site-packages (from uszipcode) (1.2.11)\n",
      "Requirement already satisfied: idna<2.8,>=2.5 in /usr/local/anaconda3/envs/metis-bootcamp/lib/python3.7/site-packages (from requests->uszipcode) (2.7)\n",
      "Requirement already satisfied: certifi>=2017.4.17 in /usr/local/anaconda3/envs/metis-bootcamp/lib/python3.7/site-packages (from requests->uszipcode) (2019.6.16)\n",
      "Requirement already satisfied: chardet<3.1.0,>=3.0.2 in /usr/local/anaconda3/envs/metis-bootcamp/lib/python3.7/site-packages (from requests->uszipcode) (3.0.4)\n",
      "Requirement already satisfied: urllib3<1.24,>=1.21.1 in /usr/local/anaconda3/envs/metis-bootcamp/lib/python3.7/site-packages (from requests->uszipcode) (1.23)\n",
      "Collecting autopep8 (from pathlib-mate->uszipcode)\n",
      "\u001b[?25l  Downloading https://files.pythonhosted.org/packages/45/f3/24b437da561b6af4840c871fbbda32889ca304fc1f7b6cc3ada8b09f394a/autopep8-1.4.4.tar.gz (114kB)\n",
      "\u001b[K     |████████████████████████████████| 122kB 25.3MB/s eta 0:00:01\n",
      "\u001b[?25hRequirement already satisfied: six in /usr/local/anaconda3/envs/metis-bootcamp/lib/python3.7/site-packages (from pathlib-mate->uszipcode) (1.11.0)\n",
      "Requirement already satisfied: pycodestyle>=2.4.0 in /usr/local/anaconda3/envs/metis-bootcamp/lib/python3.7/site-packages (from autopep8->pathlib-mate->uszipcode) (2.4.0)\n",
      "Building wheels for collected packages: autopep8\n",
      "  Building wheel for autopep8 (setup.py) ... \u001b[?25ldone\n",
      "\u001b[?25h  Created wheel for autopep8: filename=autopep8-1.4.4-py2.py3-none-any.whl size=41221 sha256=07cc8a35c08102437a896aebfab45f3aadaac336ad659e16baefe617f7f32df3\n",
      "  Stored in directory: /Users/dbruzzone/Library/Caches/pip/wheels/7e/f5/4b/c19e6276126325eb8071b273347c05a830c37a82b9b3b81510\n",
      "Successfully built autopep8\n",
      "Installing collected packages: autopep8, pathlib-mate, uszipcode\n",
      "Successfully installed autopep8-1.4.4 pathlib-mate-0.0.15 uszipcode-0.2.2\n"
     ]
    }
   ],
   "source": [
    "# Install the required dependencies\n",
    "#\n",
    "# - https://pypi.org/project/pgeocode/\n",
    "#\n",
    "# https://stackoverflow.com/questions/37890898/how-to-set-env-variable-in-jupyter-notebook\n",
    "%env PIP_REQUIRE_VIRTUALENV=false\n",
    "\n",
    "# https://jakevdp.github.io/blog/2017/12/05/installing-python-packages-from-jupyter/\n",
    "import sys\n",
    "!{sys.executable} -m pip install pgeocode\n",
    "!{sys.executable} -m pip install uszipcode"
   ]
  },
  {
   "cell_type": "code",
   "execution_count": 12,
   "metadata": {},
   "outputs": [
    {
     "name": "stdout",
     "output_type": "stream",
     "text": [
      "[SimpleZipcode(zipcode='11105', zipcode_type='Standard', major_city='Astoria', post_office_city='Astoria, NY', common_city_list=['Astoria', 'Long Is City', 'Long Island City'], county='Queens County', state='NY', lat=40.78, lng=-73.91, timezone='Eastern', radius_in_miles=1.0, area_code_list=['212'], population=36688, population_density=22481.0, land_area_in_sqmi=1.63, water_area_in_sqmi=0.0, housing_units=17416, occupied_housing_units=16120, median_home_value=658700, median_household_income=57525, bounds_west=-73.922002, bounds_east=-73.891997, bounds_north=40.790988, bounds_south=40.767211), SimpleZipcode(zipcode='11102', zipcode_type='Standard', major_city='Astoria', post_office_city='Astoria, NY', common_city_list=['Astoria', 'Long Is City', 'Long Island City'], county='Queens County', state='NY', lat=40.77, lng=-73.93, timezone='Eastern', radius_in_miles=1.0, area_code_list=['718'], population=34133, population_density=42255.0, land_area_in_sqmi=0.81, water_area_in_sqmi=0.0, housing_units=15499, occupied_housing_units=14083, median_home_value=597700, median_household_income=49924, bounds_west=-73.938447, bounds_east=-73.91431, bounds_north=40.782874, bounds_south=40.763574), SimpleZipcode(zipcode='11103', zipcode_type='Standard', major_city='Astoria', post_office_city='Astoria, NY', common_city_list=['Astoria', 'Long Is City', 'Long Island City'], county='Queens County', state='NY', lat=40.76, lng=-73.91, timezone='Eastern', radius_in_miles=0.8522727272727273, area_code_list=['718'], population=38780, population_density=54537.0, land_area_in_sqmi=0.71, water_area_in_sqmi=0.0, housing_units=18518, occupied_housing_units=16890, median_home_value=648900, median_household_income=55129, bounds_west=-73.922832, bounds_east=-73.902025, bounds_north=40.771523, bounds_south=40.753304), SimpleZipcode(zipcode='11370', zipcode_type='Standard', major_city='East Elmhurst', post_office_city='East Elmhurst, NY', common_city_list=['East Elmhurst', 'Flushing'], county='Queens County', state='NY', lat=40.78, lng=-73.89, timezone='Eastern', radius_in_miles=2.0, area_code_list=['347', '718', '917', '929'], population=39688, population_density=27899.0, land_area_in_sqmi=1.42, water_area_in_sqmi=0.0, housing_units=10244, occupied_housing_units=9415, median_home_value=517100, median_household_income=52500, bounds_west=-73.900659, bounds_east=-73.870992, bounds_north=40.798315, bounds_south=40.754389), SimpleZipcode(zipcode='11377', zipcode_type='Standard', major_city='Woodside', post_office_city='Woodside, NY', common_city_list=['Woodside', 'Flushing'], county='Queens County', state='NY', lat=40.75, lng=-73.91, timezone='Eastern', radius_in_miles=2.0, area_code_list=['718', '347', '917', '929'], population=89830, population_density=35274.0, land_area_in_sqmi=2.55, water_area_in_sqmi=0.0, housing_units=33545, occupied_housing_units=31412, median_home_value=395800, median_household_income=49886, bounds_west=-73.925851, bounds_east=-73.888523, bounds_north=40.767776, bounds_south=40.72855)]\n"
     ]
    }
   ],
   "source": [
    "# Make sure pgeocode works...\n",
    "import pgeocode\n",
    "\n",
    "nomi = pgeocode.Nominatim('us')\n",
    "\n",
    "nomi.query_postal_code('11106')\n",
    "\n",
    "from uszipcode import SearchEngine\n",
    "# from uszipcode import Zipcode\n",
    "\n",
    "search = SearchEngine(simple_zipcode=True)\n",
    "\n",
    "# Search zipcode within 30 miles, ordered from closest to farthest\n",
    "result = search.by_coordinates(40.775036, -73.912034)[0]\n",
    "\n",
    "print(result)"
   ]
  },
  {
   "cell_type": "code",
   "execution_count": null,
   "metadata": {},
   "outputs": [],
   "source": []
  }
 ],
 "metadata": {
  "kernelspec": {
   "display_name": "Python 3",
   "language": "python",
   "name": "python3"
  },
  "language_info": {
   "codemirror_mode": {
    "name": "ipython",
    "version": 3
   },
   "file_extension": ".py",
   "mimetype": "text/x-python",
   "name": "python",
   "nbconvert_exporter": "python",
   "pygments_lexer": "ipython3",
   "version": "3.7.2"
  },
  "toc": {
   "base_numbering": 1,
   "nav_menu": {},
   "number_sections": true,
   "sideBar": true,
   "skip_h1_title": false,
   "title_cell": "Table of Contents",
   "title_sidebar": "Contents",
   "toc_cell": true,
   "toc_position": {},
   "toc_section_display": true,
   "toc_window_display": true
  },
  "varInspector": {
   "cols": {
    "lenName": 16,
    "lenType": 16,
    "lenVar": 40
   },
   "kernels_config": {
    "python": {
     "delete_cmd_postfix": "",
     "delete_cmd_prefix": "del ",
     "library": "var_list.py",
     "varRefreshCmd": "print(var_dic_list())"
    },
    "r": {
     "delete_cmd_postfix": ") ",
     "delete_cmd_prefix": "rm(",
     "library": "var_list.r",
     "varRefreshCmd": "cat(var_dic_list()) "
    }
   },
   "types_to_exclude": [
    "module",
    "function",
    "builtin_function_or_method",
    "instance",
    "_Feature"
   ],
   "window_display": false
  }
 },
 "nbformat": 4,
 "nbformat_minor": 2
}
