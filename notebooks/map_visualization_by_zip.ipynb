{
 "cells": [
  {
   "cell_type": "markdown",
   "metadata": {
    "toc": true
   },
   "source": [
    "<h1>Table of Contents<span class=\"tocSkip\"></span></h1>\n",
    "<div class=\"toc\"><ul class=\"toc-item\"></ul></div>"
   ]
  },
  {
   "cell_type": "code",
   "execution_count": 76,
   "metadata": {
    "ExecuteTime": {
     "end_time": "2019-09-27T15:15:57.261769Z",
     "start_time": "2019-09-27T15:15:57.248989Z"
    }
   },
   "outputs": [],
   "source": [
    "import string\n",
    "import folium\n",
    "import pandas as pd\n",
    "import pickle\n",
    "import io\n",
    "import requests\n",
    "import datetime\n",
    "import math\n",
    "import seaborn as sns\n",
    "from uszipcode import SearchEngine\n",
    "search = SearchEngine(simple_zipcode=True)\n",
    "sns.set()\n",
    "\n",
    "import matplotlib.pyplot as plt\n",
    "%matplotlib inline"
   ]
  },
  {
   "cell_type": "code",
   "execution_count": 2,
   "metadata": {
    "ExecuteTime": {
     "end_time": "2019-09-27T14:32:57.736692Z",
     "start_time": "2019-09-27T14:32:57.734067Z"
    }
   },
   "outputs": [],
   "source": [
    "# get mta_stations.csv\n",
    "mta_stations_csv_path = '../data/mta_stations.csv'\n",
    "\n",
    "# Get team-wide dataframe of Brooklyn stations\n",
    "foodtruck_pickle = '../pickle_jar/foodtruck_df2.pkl'"
   ]
  },
  {
   "cell_type": "code",
   "execution_count": 4,
   "metadata": {
    "ExecuteTime": {
     "end_time": "2019-09-27T14:33:04.855741Z",
     "start_time": "2019-09-27T14:33:04.786347Z"
    }
   },
   "outputs": [
    {
     "data": {
      "text/html": [
       "<div>\n",
       "<style scoped>\n",
       "    .dataframe tbody tr th:only-of-type {\n",
       "        vertical-align: middle;\n",
       "    }\n",
       "\n",
       "    .dataframe tbody tr th {\n",
       "        vertical-align: top;\n",
       "    }\n",
       "\n",
       "    .dataframe thead th {\n",
       "        text-align: right;\n",
       "    }\n",
       "</style>\n",
       "<table border=\"1\" class=\"dataframe\">\n",
       "  <thead>\n",
       "    <tr style=\"text-align: right;\">\n",
       "      <th></th>\n",
       "      <th>C/A</th>\n",
       "      <th>UNIT</th>\n",
       "      <th>SCP</th>\n",
       "      <th>STATION</th>\n",
       "      <th>LINENAME</th>\n",
       "      <th>UNIQUE_STATION</th>\n",
       "      <th>DATE</th>\n",
       "      <th>TIME</th>\n",
       "      <th>DESC</th>\n",
       "      <th>DAY_OF_WEEK</th>\n",
       "      <th>...</th>\n",
       "      <th>HOLIDAY</th>\n",
       "      <th>ENTRIES</th>\n",
       "      <th>EXITS</th>\n",
       "      <th>LAST_ENTRIES</th>\n",
       "      <th>LAST_EXITS</th>\n",
       "      <th>LAST_TIME</th>\n",
       "      <th>DAILY_ENTRIES</th>\n",
       "      <th>DAILY_EXITS</th>\n",
       "      <th>DAILY_TOTAL</th>\n",
       "      <th>IN_BK</th>\n",
       "    </tr>\n",
       "  </thead>\n",
       "  <tbody>\n",
       "    <tr>\n",
       "      <th>0</th>\n",
       "      <td>B004</td>\n",
       "      <td>R171</td>\n",
       "      <td>00-00-00</td>\n",
       "      <td>7 AV</td>\n",
       "      <td>BQ</td>\n",
       "      <td>7 AV BQ</td>\n",
       "      <td>09/01/2018</td>\n",
       "      <td>09:00:00</td>\n",
       "      <td>REGULAR</td>\n",
       "      <td>Saturday</td>\n",
       "      <td>...</td>\n",
       "      <td>False</td>\n",
       "      <td>6293248</td>\n",
       "      <td>4614702</td>\n",
       "      <td>6293557</td>\n",
       "      <td>4615002</td>\n",
       "      <td>13:00:00</td>\n",
       "      <td>309</td>\n",
       "      <td>300</td>\n",
       "      <td>609</td>\n",
       "      <td>True</td>\n",
       "    </tr>\n",
       "    <tr>\n",
       "      <th>1</th>\n",
       "      <td>B004</td>\n",
       "      <td>R171</td>\n",
       "      <td>00-00-00</td>\n",
       "      <td>7 AV</td>\n",
       "      <td>BQ</td>\n",
       "      <td>7 AV BQ</td>\n",
       "      <td>09/02/2018</td>\n",
       "      <td>09:00:00</td>\n",
       "      <td>REGULAR</td>\n",
       "      <td>Sunday</td>\n",
       "      <td>...</td>\n",
       "      <td>False</td>\n",
       "      <td>6294460</td>\n",
       "      <td>4615867</td>\n",
       "      <td>6294784</td>\n",
       "      <td>4616103</td>\n",
       "      <td>13:00:00</td>\n",
       "      <td>324</td>\n",
       "      <td>236</td>\n",
       "      <td>560</td>\n",
       "      <td>True</td>\n",
       "    </tr>\n",
       "    <tr>\n",
       "      <th>2</th>\n",
       "      <td>B004</td>\n",
       "      <td>R171</td>\n",
       "      <td>00-00-00</td>\n",
       "      <td>7 AV</td>\n",
       "      <td>BQ</td>\n",
       "      <td>7 AV BQ</td>\n",
       "      <td>09/03/2018</td>\n",
       "      <td>09:00:00</td>\n",
       "      <td>REGULAR</td>\n",
       "      <td>Monday</td>\n",
       "      <td>...</td>\n",
       "      <td>True</td>\n",
       "      <td>6295556</td>\n",
       "      <td>4616999</td>\n",
       "      <td>6295911</td>\n",
       "      <td>4617273</td>\n",
       "      <td>13:00:00</td>\n",
       "      <td>355</td>\n",
       "      <td>274</td>\n",
       "      <td>629</td>\n",
       "      <td>True</td>\n",
       "    </tr>\n",
       "  </tbody>\n",
       "</table>\n",
       "<p>3 rows × 22 columns</p>\n",
       "</div>"
      ],
      "text/plain": [
       "    C/A  UNIT       SCP STATION LINENAME UNIQUE_STATION        DATE      TIME  \\\n",
       "0  B004  R171  00-00-00    7 AV       BQ        7 AV BQ  09/01/2018  09:00:00   \n",
       "1  B004  R171  00-00-00    7 AV       BQ        7 AV BQ  09/02/2018  09:00:00   \n",
       "2  B004  R171  00-00-00    7 AV       BQ        7 AV BQ  09/03/2018  09:00:00   \n",
       "\n",
       "      DESC DAY_OF_WEEK  ... HOLIDAY  ENTRIES    EXITS  LAST_ENTRIES  \\\n",
       "0  REGULAR    Saturday  ...   False  6293248  4614702       6293557   \n",
       "1  REGULAR      Sunday  ...   False  6294460  4615867       6294784   \n",
       "2  REGULAR      Monday  ...    True  6295556  4616999       6295911   \n",
       "\n",
       "   LAST_EXITS  LAST_TIME  DAILY_ENTRIES DAILY_EXITS  DAILY_TOTAL  IN_BK  \n",
       "0     4615002   13:00:00            309         300          609   True  \n",
       "1     4616103   13:00:00            324         236          560   True  \n",
       "2     4617273   13:00:00            355         274          629   True  \n",
       "\n",
       "[3 rows x 22 columns]"
      ]
     },
     "execution_count": 4,
     "metadata": {},
     "output_type": "execute_result"
    }
   ],
   "source": [
    "ft_df = pd.read_pickle(foodtruck_pickle)\n",
    "ft_df.head(3)"
   ]
  },
  {
   "cell_type": "code",
   "execution_count": 5,
   "metadata": {
    "ExecuteTime": {
     "end_time": "2019-09-27T14:33:08.042524Z",
     "start_time": "2019-09-27T14:33:08.020796Z"
    },
    "scrolled": true
   },
   "outputs": [
    {
     "data": {
      "text/html": [
       "<div>\n",
       "<style scoped>\n",
       "    .dataframe tbody tr th:only-of-type {\n",
       "        vertical-align: middle;\n",
       "    }\n",
       "\n",
       "    .dataframe tbody tr th {\n",
       "        vertical-align: top;\n",
       "    }\n",
       "\n",
       "    .dataframe thead th {\n",
       "        text-align: right;\n",
       "    }\n",
       "</style>\n",
       "<table border=\"1\" class=\"dataframe\">\n",
       "  <thead>\n",
       "    <tr style=\"text-align: right;\">\n",
       "      <th></th>\n",
       "      <th>Station ID</th>\n",
       "      <th>Complex ID</th>\n",
       "      <th>GTFS Stop ID</th>\n",
       "      <th>Division</th>\n",
       "      <th>Line</th>\n",
       "      <th>Stop Name</th>\n",
       "      <th>Borough</th>\n",
       "      <th>Daytime Routes</th>\n",
       "      <th>Structure</th>\n",
       "      <th>GTFS Latitude</th>\n",
       "      <th>GTFS Longitude</th>\n",
       "      <th>North Direction Label</th>\n",
       "      <th>South Direction Label</th>\n",
       "    </tr>\n",
       "  </thead>\n",
       "  <tbody>\n",
       "    <tr>\n",
       "      <th>0</th>\n",
       "      <td>1</td>\n",
       "      <td>1</td>\n",
       "      <td>R01</td>\n",
       "      <td>BMT</td>\n",
       "      <td>Astoria</td>\n",
       "      <td>Astoria - Ditmars Blvd</td>\n",
       "      <td>Q</td>\n",
       "      <td>N W</td>\n",
       "      <td>Elevated</td>\n",
       "      <td>40.775036</td>\n",
       "      <td>-73.912034</td>\n",
       "      <td>NaN</td>\n",
       "      <td>Manhattan</td>\n",
       "    </tr>\n",
       "    <tr>\n",
       "      <th>1</th>\n",
       "      <td>2</td>\n",
       "      <td>2</td>\n",
       "      <td>R03</td>\n",
       "      <td>BMT</td>\n",
       "      <td>Astoria</td>\n",
       "      <td>Astoria Blvd</td>\n",
       "      <td>Q</td>\n",
       "      <td>N W</td>\n",
       "      <td>Elevated</td>\n",
       "      <td>40.770258</td>\n",
       "      <td>-73.917843</td>\n",
       "      <td>Ditmars Blvd</td>\n",
       "      <td>Manhattan</td>\n",
       "    </tr>\n",
       "    <tr>\n",
       "      <th>2</th>\n",
       "      <td>3</td>\n",
       "      <td>3</td>\n",
       "      <td>R04</td>\n",
       "      <td>BMT</td>\n",
       "      <td>Astoria</td>\n",
       "      <td>30 Av</td>\n",
       "      <td>Q</td>\n",
       "      <td>N W</td>\n",
       "      <td>Elevated</td>\n",
       "      <td>40.766779</td>\n",
       "      <td>-73.921479</td>\n",
       "      <td>Astoria - Ditmars Blvd</td>\n",
       "      <td>Manhattan</td>\n",
       "    </tr>\n",
       "  </tbody>\n",
       "</table>\n",
       "</div>"
      ],
      "text/plain": [
       "   Station ID  Complex ID GTFS Stop ID Division     Line  \\\n",
       "0           1           1          R01      BMT  Astoria   \n",
       "1           2           2          R03      BMT  Astoria   \n",
       "2           3           3          R04      BMT  Astoria   \n",
       "\n",
       "                Stop Name Borough Daytime Routes Structure  GTFS Latitude  \\\n",
       "0  Astoria - Ditmars Blvd       Q            N W  Elevated      40.775036   \n",
       "1            Astoria Blvd       Q            N W  Elevated      40.770258   \n",
       "2                   30 Av       Q            N W  Elevated      40.766779   \n",
       "\n",
       "   GTFS Longitude   North Direction Label South Direction Label  \n",
       "0      -73.912034                     NaN             Manhattan  \n",
       "1      -73.917843            Ditmars Blvd             Manhattan  \n",
       "2      -73.921479  Astoria - Ditmars Blvd             Manhattan  "
      ]
     },
     "execution_count": 5,
     "metadata": {},
     "output_type": "execute_result"
    }
   ],
   "source": [
    "mta_stations_df = pd.read_csv(mta_stations_csv_path)\n",
    "mta_stations_df.head(3)"
   ]
  },
  {
   "cell_type": "code",
   "execution_count": 6,
   "metadata": {
    "ExecuteTime": {
     "end_time": "2019-09-27T14:33:17.921571Z",
     "start_time": "2019-09-27T14:33:17.901901Z"
    },
    "scrolled": false
   },
   "outputs": [
    {
     "data": {
      "text/html": [
       "<div>\n",
       "<style scoped>\n",
       "    .dataframe tbody tr th:only-of-type {\n",
       "        vertical-align: middle;\n",
       "    }\n",
       "\n",
       "    .dataframe tbody tr th {\n",
       "        vertical-align: top;\n",
       "    }\n",
       "\n",
       "    .dataframe thead th {\n",
       "        text-align: right;\n",
       "    }\n",
       "</style>\n",
       "<table border=\"1\" class=\"dataframe\">\n",
       "  <thead>\n",
       "    <tr style=\"text-align: right;\">\n",
       "      <th></th>\n",
       "      <th>C/A</th>\n",
       "      <th>UNIT</th>\n",
       "      <th>SCP</th>\n",
       "      <th>STATION</th>\n",
       "      <th>LINENAME</th>\n",
       "      <th>UNIQUE_STATION</th>\n",
       "      <th>DATE</th>\n",
       "      <th>TIME</th>\n",
       "      <th>DESC</th>\n",
       "      <th>DAY_OF_WEEK</th>\n",
       "      <th>...</th>\n",
       "      <th>HOLIDAY</th>\n",
       "      <th>ENTRIES</th>\n",
       "      <th>EXITS</th>\n",
       "      <th>LAST_ENTRIES</th>\n",
       "      <th>LAST_EXITS</th>\n",
       "      <th>LAST_TIME</th>\n",
       "      <th>DAILY_ENTRIES</th>\n",
       "      <th>DAILY_EXITS</th>\n",
       "      <th>DAILY_TOTAL</th>\n",
       "      <th>IN_BK</th>\n",
       "    </tr>\n",
       "  </thead>\n",
       "  <tbody>\n",
       "    <tr>\n",
       "      <th>0</th>\n",
       "      <td>B004</td>\n",
       "      <td>R171</td>\n",
       "      <td>00-00-00</td>\n",
       "      <td>7 AV</td>\n",
       "      <td>BQ</td>\n",
       "      <td>7 AV BQ</td>\n",
       "      <td>09/01/2018</td>\n",
       "      <td>09:00:00</td>\n",
       "      <td>REGULAR</td>\n",
       "      <td>Saturday</td>\n",
       "      <td>...</td>\n",
       "      <td>False</td>\n",
       "      <td>6293248</td>\n",
       "      <td>4614702</td>\n",
       "      <td>6293557</td>\n",
       "      <td>4615002</td>\n",
       "      <td>13:00:00</td>\n",
       "      <td>309</td>\n",
       "      <td>300</td>\n",
       "      <td>609</td>\n",
       "      <td>True</td>\n",
       "    </tr>\n",
       "    <tr>\n",
       "      <th>1</th>\n",
       "      <td>B004</td>\n",
       "      <td>R171</td>\n",
       "      <td>00-00-00</td>\n",
       "      <td>7 AV</td>\n",
       "      <td>BQ</td>\n",
       "      <td>7 AV BQ</td>\n",
       "      <td>09/02/2018</td>\n",
       "      <td>09:00:00</td>\n",
       "      <td>REGULAR</td>\n",
       "      <td>Sunday</td>\n",
       "      <td>...</td>\n",
       "      <td>False</td>\n",
       "      <td>6294460</td>\n",
       "      <td>4615867</td>\n",
       "      <td>6294784</td>\n",
       "      <td>4616103</td>\n",
       "      <td>13:00:00</td>\n",
       "      <td>324</td>\n",
       "      <td>236</td>\n",
       "      <td>560</td>\n",
       "      <td>True</td>\n",
       "    </tr>\n",
       "    <tr>\n",
       "      <th>2</th>\n",
       "      <td>B004</td>\n",
       "      <td>R171</td>\n",
       "      <td>00-00-00</td>\n",
       "      <td>7 AV</td>\n",
       "      <td>BQ</td>\n",
       "      <td>7 AV BQ</td>\n",
       "      <td>09/03/2018</td>\n",
       "      <td>09:00:00</td>\n",
       "      <td>REGULAR</td>\n",
       "      <td>Monday</td>\n",
       "      <td>...</td>\n",
       "      <td>True</td>\n",
       "      <td>6295556</td>\n",
       "      <td>4616999</td>\n",
       "      <td>6295911</td>\n",
       "      <td>4617273</td>\n",
       "      <td>13:00:00</td>\n",
       "      <td>355</td>\n",
       "      <td>274</td>\n",
       "      <td>629</td>\n",
       "      <td>True</td>\n",
       "    </tr>\n",
       "  </tbody>\n",
       "</table>\n",
       "<p>3 rows × 22 columns</p>\n",
       "</div>"
      ],
      "text/plain": [
       "    C/A  UNIT       SCP STATION LINENAME UNIQUE_STATION        DATE      TIME  \\\n",
       "0  B004  R171  00-00-00    7 AV       BQ        7 AV BQ  09/01/2018  09:00:00   \n",
       "1  B004  R171  00-00-00    7 AV       BQ        7 AV BQ  09/02/2018  09:00:00   \n",
       "2  B004  R171  00-00-00    7 AV       BQ        7 AV BQ  09/03/2018  09:00:00   \n",
       "\n",
       "      DESC DAY_OF_WEEK  ... HOLIDAY  ENTRIES    EXITS  LAST_ENTRIES  \\\n",
       "0  REGULAR    Saturday  ...   False  6293248  4614702       6293557   \n",
       "1  REGULAR      Sunday  ...   False  6294460  4615867       6294784   \n",
       "2  REGULAR      Monday  ...    True  6295556  4616999       6295911   \n",
       "\n",
       "   LAST_EXITS  LAST_TIME  DAILY_ENTRIES DAILY_EXITS  DAILY_TOTAL  IN_BK  \n",
       "0     4615002   13:00:00            309         300          609   True  \n",
       "1     4616103   13:00:00            324         236          560   True  \n",
       "2     4617273   13:00:00            355         274          629   True  \n",
       "\n",
       "[3 rows x 22 columns]"
      ]
     },
     "execution_count": 6,
     "metadata": {},
     "output_type": "execute_result"
    }
   ],
   "source": [
    "ft_df.head(3)"
   ]
  },
  {
   "cell_type": "code",
   "execution_count": 103,
   "metadata": {
    "ExecuteTime": {
     "end_time": "2019-09-27T16:43:11.158175Z",
     "start_time": "2019-09-27T16:43:11.135496Z"
    }
   },
   "outputs": [],
   "source": [
    "# dictionary to map station name to zipcode. incomplete.\n",
    "# scraped using beautifulsoup of a google search\n",
    "\n",
    "brooklyn_stations_zip_dict = {\n",
    "    '7 AV BQ': ['11217'], 'PARK PLACE S': ['11238'], 'BOTANIC GARDEN S2345': ['11225'], 'PROSPECT PARK BQS': ['11226'],\n",
    "    'PARKSIDE AV BQ': ['11226'], 'CHURCH AV BQ': ['11226'], 'BEVERLEY ROAD BQ': ['11226'],\n",
    "    'CORTELYOU RD BQ': ['11226'], 'NEWKIRK PLAZA BQ': ['11226'], 'AVENUE H BQ': ['11230'],\n",
    "    'AVENUE J BQ': ['11230'], 'AVENUE M BQ': ['11230'], 'KINGS HWY BQ': ['11229'], 'AVENUE U BQ': [],\n",
    "    'NECK RD BQ': ['11229'], 'SHEEPSHEAD BAY BQ': ['11235'], 'BRIGHTON BEACH BQ': ['11235'],\n",
    "    'OCEAN PKWY Q': ['11235'], 'BOROUGH HALL R2345': ['11201'], 'JAY ST-METROTEC R': [],\n",
    "    'DEKALB AV BDNQR': ['11217'], 'ATL AV-BARCLAY BDNQR2345': ['11217'], 'UNION ST R': ['11215'],\n",
    "    '4AV-9 ST DFGMNR': ['11231'], 'PROSPECT AV R': ['11215'], '25 ST R': ['11232'], '36 ST DNR': ['11232'],\n",
    "    '45 ST R': ['11220'], '53 ST R': ['11220'], '59 ST NRW': [], 'BAY RIDGE AV R': ['11220'],\n",
    "    '77 ST R': ['11209'], '86 ST R': ['11209'], 'BAY RIDGE-95 ST R': ['11209'], '8 AV N': ['11220'],\n",
    "    'FT HAMILTON PKY N': [], 'NEW UTRECHT AV ND': [], '18 AV N': [], '20 AV N': ['11214'], 'BAY PKWY N': [],\n",
    "    'KINGS HWY N': [], 'AVENUE U N': ['11223'], '86 ST N': ['11209'], '9 AV D': ['11219'],\n",
    "    'FT HAMILTON PKY D': [], '50 ST D': [], '55 ST D': ['11219'], '71 ST D': ['11228'],\n",
    "    '79 ST D': ['11220'], '18 AV D': [], '20 AV D': ['11214'], 'BAY PKWY D': ['11214'],\n",
    "    '25 AV D': ['11214'], 'BAY 50 ST D': ['11214'], 'CONEY IS-STILLW DFNQ': [],\n",
    "    'W 8 ST-AQUARIUM FQ': ['11224'], 'BEDFORD AV L': ['11211'], 'LORIMER ST LG': ['11211'],\n",
    "    'GRAHAM AV L': ['11211'], 'GRAND ST L': ['11211'], 'MONTROSE AV L': ['11206'],\n",
    "    'MORGAN AV L': ['11237'], 'JEFFERSON ST L': ['11237'], 'DEKALB AV L': ['11237'],\n",
    "    'MYRTLE-WYCKOFF LM': ['11237'], 'HALSEY ST L': [], 'WILSON AV L': ['11207'],\n",
    "    'BUSHWICK AV L': [], 'ATLANTIC AV L': ['11207'], 'SUTTER AV L': ['11207'],\n",
    "    'LIVONIA AV L': ['11212'], 'NEW LOTS L': [], 'EAST 105 ST L': ['11236'],\n",
    "    'CANARSIE-ROCKAW L': ['11236'], 'MARCY AV JMZ': ['11211'], 'HEWES ST JM': ['11211'],\n",
    "    'LORIMER ST JM': [], 'FLUSHING AV JM': ['11206'], 'MYRTLE AV JMZ': [],\n",
    "    'KOSCIUSZKO ST J': [], 'GATES AV JZ': ['11221'], 'HALSEY ST J': [],\n",
    "    'CHAUNCEY ST JZ': ['11207'], 'ALABAMA AV J': ['11207'], 'VAN SICLEN AV JZ': [],\n",
    "    'CLEVELAND ST J': [], 'NORWOOD AV JZ': ['11208'], 'CRESCENT ST JZ': ['11208'],\n",
    "    'CYPRESS HILLS J': [], 'CENTRAL AV M': ['11221'], 'KNICKERBOCKER M': ['11237'],\n",
    "    'HIGH ST AC': ['11201'], 'JAY ST-METROTEC ACF': ['11201'], 'HOYT-SCHER ACG': ['11201'],\n",
    "    'LAFAYETTE AV C': ['11217'], 'CLINTON-WASH AV C': [], 'FRANKLIN AV ACS': ['11238'],\n",
    "    'NOSTRAND AV AC': [], 'KINGSTON-THROOP C': ['11213'], 'UTICA AV AC': ['11233'],\n",
    "    'RALPH AV C': ['11233'], 'ROCKAWAY AV C': ['11233'], 'BROADWAY JCT ACJLZ': [],\n",
    "    'LIBERTY AV C': ['11207'], 'VAN SICLEN AVE C': ['11207'], 'SHEPHERD AV C': ['11208'],\n",
    "    'EUCLID AV AC': ['11208'], 'GREENPOINT AV G': ['11222'], 'NASSAU AV G': ['11222'],\n",
    "    'METROPOLITAN AV GL': [], 'BROADWAY G': ['11206'], 'FLUSHING AV G': ['11206'],\n",
    "    'MYRTLE-WILLOUGH G': ['11206'], 'BEDFORD-NOSTRAN G': ['11205'], 'CLASSON AV G': ['11238'],\n",
    "    'CLINTON-WASH AV G': [], 'FULTON ST G': ['11217'], 'YORK ST F': ['11201'], 'BERGEN ST FG': ['11201'],\n",
    "    'CARROLL ST FG': ['11231'], 'SMITH-9 ST FG': ['11231'], '4 AV-9 ST DFGMNR': ['11215'],\n",
    "    '7 AV FG': ['11215'], '15 ST-PROSPECT FG': ['11215'], 'FT HAMILTON PKY FG': [],\n",
    "    'CHURCH AV FG': [], 'DITMAS AV F': ['11218'], '18 AV F': ['11230'], 'AVENUE I F': [],\n",
    "    'BAY PKWY F': ['11230'], 'AVENUE N F': [], 'AVENUE P F': [], 'KINGS HWY F': ['11229'],\n",
    "    'AVENUE U F': [], 'AVENUE X F': ['11223'], 'NEPTUNE AV F': ['11224'], 'CLARK ST 23': [],\n",
    "    'BOROUGH HALL 2345R': ['11201'], 'HOYT ST 23': [], 'NEVINS ST 2345': ['11217'],\n",
    "    'ATL AV-BARCLAY 2345BDNQR': ['11217'], 'BERGEN ST 23': [], 'GRAND ARMY PLAZ 23': [],\n",
    "    'EASTN PKWY-MUSM 23': ['11238'], 'FRANKLIN AV 2345S': ['11238'], 'NOSTRAND AV 3': ['11225'],\n",
    "    'KINGSTON AV 3': ['11213'], 'CROWN HTS-UTICA 34': [], 'SUTTER AV-RUTLD 3': [],\n",
    "    'SARATOGA AV 3': ['11212'], 'ROCKAWAY AV 3': [], 'JUNIUS ST 3': ['11212'],\n",
    "    'PENNSYLVANIA AV 3': ['11207'], 'VAN SICLEN AV 3': ['11207'], 'NEW LOTS AV 3': ['11207'],\n",
    "    'PRESIDENT ST 25': ['11225'], 'STERLING ST 25': ['11225'], 'WINTHROP ST 25': ['11225'],\n",
    "    'CHURCH AV 25': [], 'BEVERLY RD 25': ['11226'], 'NEWKIRK AV 25': [], 'FLATBUSH AV-B.C 25': ['11226']\n",
    "}\n",
    "for k,v in brooklyn_stations_zip_dict.items():\n",
    "    if len(v) != 0:\n",
    "        brooklyn_stations_zip_dict[k] = v[0]\n",
    "    else:\n",
    "        brooklyn_stations_zip_dict[k] = ''"
   ]
  },
  {
   "cell_type": "code",
   "execution_count": 104,
   "metadata": {
    "ExecuteTime": {
     "end_time": "2019-09-27T16:43:26.576458Z",
     "start_time": "2019-09-27T16:43:26.570919Z"
    },
    "scrolled": true
   },
   "outputs": [],
   "source": [
    "brooklyn_stations_zips = pd.DataFrame.from_dict(brooklyn_stations_zip_dict, orient='index')\n",
    "brooklyn_stations_zips.rename(columns = {0:'zip'}, inplace=True)"
   ]
  },
  {
   "cell_type": "code",
   "execution_count": 105,
   "metadata": {
    "ExecuteTime": {
     "end_time": "2019-09-27T16:43:42.059773Z",
     "start_time": "2019-09-27T16:43:42.047850Z"
    },
    "scrolled": true
   },
   "outputs": [
    {
     "data": {
      "text/html": [
       "<div>\n",
       "<style scoped>\n",
       "    .dataframe tbody tr th:only-of-type {\n",
       "        vertical-align: middle;\n",
       "    }\n",
       "\n",
       "    .dataframe tbody tr th {\n",
       "        vertical-align: top;\n",
       "    }\n",
       "\n",
       "    .dataframe thead th {\n",
       "        text-align: right;\n",
       "    }\n",
       "</style>\n",
       "<table border=\"1\" class=\"dataframe\">\n",
       "  <thead>\n",
       "    <tr style=\"text-align: right;\">\n",
       "      <th></th>\n",
       "      <th>index</th>\n",
       "      <th>zip</th>\n",
       "    </tr>\n",
       "  </thead>\n",
       "  <tbody>\n",
       "    <tr>\n",
       "      <th>84</th>\n",
       "      <td>VAN SICLEN AV JZ</td>\n",
       "      <td></td>\n",
       "    </tr>\n",
       "    <tr>\n",
       "      <th>22</th>\n",
       "      <td>UNION ST R</td>\n",
       "      <td>11215</td>\n",
       "    </tr>\n",
       "    <tr>\n",
       "      <th>51</th>\n",
       "      <td>BAY PKWY D</td>\n",
       "      <td>11214</td>\n",
       "    </tr>\n",
       "    <tr>\n",
       "      <th>73</th>\n",
       "      <td>CANARSIE-ROCKAW L</td>\n",
       "      <td>11236</td>\n",
       "    </tr>\n",
       "    <tr>\n",
       "      <th>100</th>\n",
       "      <td>RALPH AV C</td>\n",
       "      <td>11233</td>\n",
       "    </tr>\n",
       "  </tbody>\n",
       "</table>\n",
       "</div>"
      ],
      "text/plain": [
       "                 index    zip\n",
       "84    VAN SICLEN AV JZ       \n",
       "22          UNION ST R  11215\n",
       "51          BAY PKWY D  11214\n",
       "73   CANARSIE-ROCKAW L  11236\n",
       "100         RALPH AV C  11233"
      ]
     },
     "execution_count": 105,
     "metadata": {},
     "output_type": "execute_result"
    }
   ],
   "source": [
    "brooklyn_stations_zips = brooklyn_stations_zips.reset_index()\n",
    "brooklyn_stations_zips.sample(5)"
   ]
  },
  {
   "cell_type": "code",
   "execution_count": 106,
   "metadata": {
    "ExecuteTime": {
     "end_time": "2019-09-27T16:43:57.219180Z",
     "start_time": "2019-09-27T16:43:57.158525Z"
    }
   },
   "outputs": [],
   "source": [
    "ft_df_zips = pd.merge(ft_df, brooklyn_stations_zips, left_on=['UNIQUE_STATION'], right_on='index')"
   ]
  },
  {
   "cell_type": "code",
   "execution_count": 107,
   "metadata": {
    "ExecuteTime": {
     "end_time": "2019-09-27T16:44:12.441621Z",
     "start_time": "2019-09-27T16:44:12.317359Z"
    },
    "scrolled": true
   },
   "outputs": [
    {
     "data": {
      "text/html": [
       "<div>\n",
       "<style scoped>\n",
       "    .dataframe tbody tr th:only-of-type {\n",
       "        vertical-align: middle;\n",
       "    }\n",
       "\n",
       "    .dataframe tbody tr th {\n",
       "        vertical-align: top;\n",
       "    }\n",
       "\n",
       "    .dataframe thead th {\n",
       "        text-align: right;\n",
       "    }\n",
       "</style>\n",
       "<table border=\"1\" class=\"dataframe\">\n",
       "  <thead>\n",
       "    <tr style=\"text-align: right;\">\n",
       "      <th></th>\n",
       "      <th>C/A</th>\n",
       "      <th>UNIT</th>\n",
       "      <th>SCP</th>\n",
       "      <th>STATION</th>\n",
       "      <th>LINENAME</th>\n",
       "      <th>UNIQUE_STATION</th>\n",
       "      <th>DATE</th>\n",
       "      <th>TIME</th>\n",
       "      <th>DESC</th>\n",
       "      <th>DAY_OF_WEEK</th>\n",
       "      <th>...</th>\n",
       "      <th>EXITS</th>\n",
       "      <th>LAST_ENTRIES</th>\n",
       "      <th>LAST_EXITS</th>\n",
       "      <th>LAST_TIME</th>\n",
       "      <th>DAILY_ENTRIES</th>\n",
       "      <th>DAILY_EXITS</th>\n",
       "      <th>DAILY_TOTAL</th>\n",
       "      <th>IN_BK</th>\n",
       "      <th>index</th>\n",
       "      <th>zip</th>\n",
       "    </tr>\n",
       "  </thead>\n",
       "  <tbody>\n",
       "    <tr>\n",
       "      <th>71904</th>\n",
       "      <td>N535</td>\n",
       "      <td>R220</td>\n",
       "      <td>00-00-00</td>\n",
       "      <td>CARROLL ST</td>\n",
       "      <td>FG</td>\n",
       "      <td>CARROLL ST FG</td>\n",
       "      <td>11/06/2018</td>\n",
       "      <td>07:00:00</td>\n",
       "      <td>REGULAR</td>\n",
       "      <td>Tuesday</td>\n",
       "      <td>...</td>\n",
       "      <td>19197576</td>\n",
       "      <td>5584506</td>\n",
       "      <td>19198187</td>\n",
       "      <td>11:00:00</td>\n",
       "      <td>270</td>\n",
       "      <td>611</td>\n",
       "      <td>881</td>\n",
       "      <td>True</td>\n",
       "      <td>CARROLL ST FG</td>\n",
       "      <td>11231</td>\n",
       "    </tr>\n",
       "    <tr>\n",
       "      <th>90149</th>\n",
       "      <td>R622</td>\n",
       "      <td>R123</td>\n",
       "      <td>00-00-04</td>\n",
       "      <td>FRANKLIN AV</td>\n",
       "      <td>2345S</td>\n",
       "      <td>FRANKLIN AV 2345S</td>\n",
       "      <td>11/06/2018</td>\n",
       "      <td>07:00:00</td>\n",
       "      <td>REGULAR</td>\n",
       "      <td>Tuesday</td>\n",
       "      <td>...</td>\n",
       "      <td>4960627</td>\n",
       "      <td>5700641</td>\n",
       "      <td>4960782</td>\n",
       "      <td>11:00:00</td>\n",
       "      <td>432</td>\n",
       "      <td>155</td>\n",
       "      <td>587</td>\n",
       "      <td>True</td>\n",
       "      <td>FRANKLIN AV 2345S</td>\n",
       "      <td>11238</td>\n",
       "    </tr>\n",
       "    <tr>\n",
       "      <th>4451</th>\n",
       "      <td>B020</td>\n",
       "      <td>R263</td>\n",
       "      <td>00-00-00</td>\n",
       "      <td>AVENUE H</td>\n",
       "      <td>BQ</td>\n",
       "      <td>AVENUE H BQ</td>\n",
       "      <td>09/18/2018</td>\n",
       "      <td>08:00:00</td>\n",
       "      <td>REGULAR</td>\n",
       "      <td>Tuesday</td>\n",
       "      <td>...</td>\n",
       "      <td>235634</td>\n",
       "      <td>573277</td>\n",
       "      <td>235719</td>\n",
       "      <td>12:00:00</td>\n",
       "      <td>182</td>\n",
       "      <td>85</td>\n",
       "      <td>267</td>\n",
       "      <td>True</td>\n",
       "      <td>AVENUE H BQ</td>\n",
       "      <td>11230</td>\n",
       "    </tr>\n",
       "    <tr>\n",
       "      <th>72252</th>\n",
       "      <td>N535</td>\n",
       "      <td>R220</td>\n",
       "      <td>00-03-01</td>\n",
       "      <td>CARROLL ST</td>\n",
       "      <td>FG</td>\n",
       "      <td>CARROLL ST FG</td>\n",
       "      <td>10/21/2018</td>\n",
       "      <td>08:00:00</td>\n",
       "      <td>REGULAR</td>\n",
       "      <td>Sunday</td>\n",
       "      <td>...</td>\n",
       "      <td>466378</td>\n",
       "      <td>3375429</td>\n",
       "      <td>466392</td>\n",
       "      <td>12:00:00</td>\n",
       "      <td>78</td>\n",
       "      <td>14</td>\n",
       "      <td>92</td>\n",
       "      <td>True</td>\n",
       "      <td>CARROLL ST FG</td>\n",
       "      <td>11231</td>\n",
       "    </tr>\n",
       "    <tr>\n",
       "      <th>18267</th>\n",
       "      <td>C010</td>\n",
       "      <td>R231</td>\n",
       "      <td>00-00-01</td>\n",
       "      <td>UNION ST</td>\n",
       "      <td>R</td>\n",
       "      <td>UNION ST R</td>\n",
       "      <td>10/04/2018</td>\n",
       "      <td>08:00:00</td>\n",
       "      <td>REGULAR</td>\n",
       "      <td>Thursday</td>\n",
       "      <td>...</td>\n",
       "      <td>445811</td>\n",
       "      <td>2290491</td>\n",
       "      <td>445877</td>\n",
       "      <td>12:00:00</td>\n",
       "      <td>777</td>\n",
       "      <td>66</td>\n",
       "      <td>843</td>\n",
       "      <td>True</td>\n",
       "      <td>UNION ST R</td>\n",
       "      <td>11215</td>\n",
       "    </tr>\n",
       "  </tbody>\n",
       "</table>\n",
       "<p>5 rows × 24 columns</p>\n",
       "</div>"
      ],
      "text/plain": [
       "        C/A  UNIT       SCP      STATION LINENAME     UNIQUE_STATION  \\\n",
       "71904  N535  R220  00-00-00   CARROLL ST       FG      CARROLL ST FG   \n",
       "90149  R622  R123  00-00-04  FRANKLIN AV    2345S  FRANKLIN AV 2345S   \n",
       "4451   B020  R263  00-00-00     AVENUE H       BQ        AVENUE H BQ   \n",
       "72252  N535  R220  00-03-01   CARROLL ST       FG      CARROLL ST FG   \n",
       "18267  C010  R231  00-00-01     UNION ST        R         UNION ST R   \n",
       "\n",
       "             DATE      TIME     DESC DAY_OF_WEEK  ...     EXITS  LAST_ENTRIES  \\\n",
       "71904  11/06/2018  07:00:00  REGULAR     Tuesday  ...  19197576       5584506   \n",
       "90149  11/06/2018  07:00:00  REGULAR     Tuesday  ...   4960627       5700641   \n",
       "4451   09/18/2018  08:00:00  REGULAR     Tuesday  ...    235634        573277   \n",
       "72252  10/21/2018  08:00:00  REGULAR      Sunday  ...    466378       3375429   \n",
       "18267  10/04/2018  08:00:00  REGULAR    Thursday  ...    445811       2290491   \n",
       "\n",
       "       LAST_EXITS  LAST_TIME  DAILY_ENTRIES  DAILY_EXITS  DAILY_TOTAL IN_BK  \\\n",
       "71904    19198187   11:00:00            270          611          881  True   \n",
       "90149     4960782   11:00:00            432          155          587  True   \n",
       "4451       235719   12:00:00            182           85          267  True   \n",
       "72252      466392   12:00:00             78           14           92  True   \n",
       "18267      445877   12:00:00            777           66          843  True   \n",
       "\n",
       "                   index    zip  \n",
       "71904      CARROLL ST FG  11231  \n",
       "90149  FRANKLIN AV 2345S  11238  \n",
       "4451         AVENUE H BQ  11230  \n",
       "72252      CARROLL ST FG  11231  \n",
       "18267         UNION ST R  11215  \n",
       "\n",
       "[5 rows x 24 columns]"
      ]
     },
     "execution_count": 107,
     "metadata": {},
     "output_type": "execute_result"
    }
   ],
   "source": [
    "ft_df_zips.sample(5)"
   ]
  },
  {
   "cell_type": "markdown",
   "metadata": {},
   "source": [
    "Map zip code values to coordinates."
   ]
  },
  {
   "cell_type": "code",
   "execution_count": 108,
   "metadata": {
    "ExecuteTime": {
     "end_time": "2019-09-27T16:44:27.449829Z",
     "start_time": "2019-09-27T16:44:27.445439Z"
    },
    "scrolled": true
   },
   "outputs": [],
   "source": [
    "zip_to_coord_raw = '''ZIP     LAT    LONG\n",
    "11207  40.670 -73.900\n",
    "11201  40.700 -73.990\n",
    "11226  40.650 -73.960\n",
    "11217  40.680 -73.980\n",
    "11211  40.710 -73.950\n",
    "11220  40.640 -74.020\n",
    "11214  40.600 -74.010\n",
    "11206  40.700 -73.940\n",
    "11237  40.700 -73.920\n",
    "11230  40.620 -73.970\n",
    "11208  40.670 -73.870\n",
    "11225  40.660 -73.960\n",
    "11215  40.670 -73.980\n",
    "11238  40.680 -73.960\n",
    "11233  40.680 -73.920\n",
    "11209  40.620 -74.030\n",
    "11231  40.680 -74.000\n",
    "11212  40.660 -73.920\n",
    "11229  40.600 -73.940\n",
    "11235  40.580 -73.950\n",
    "11224  40.580 -73.990\n",
    "11222  40.730 -73.950\n",
    "11219  40.630 -74.000\n",
    "11236  40.640 -73.900\n",
    "11223  40.600 -73.970\n",
    "11221  40.690 -73.930\n",
    "11213  40.670 -73.940\n",
    "10012  40.726 -73.998\n",
    "11218  40.650 -73.980\n",
    "11232  40.640 -74.020\n",
    "11228  40.620 -74.010\n",
    "11205  40.700 -73.970\n",
    "10014  40.740 -74.010\n",
    "10028  40.780 -73.950'''\n",
    "\n",
    "split = [line.split() for line in zip_to_coord_raw.split('\\n')]\n",
    "x = zip_to_coord_raw.split()\n",
    "zip_to_geo_dict = {x[i]: str(float(x[i+1]))+'_'+str(float(x[i+2])) for i in range(3,len(x),3)}\n",
    "\n",
    "# zip_to_coord_df = pd.DataFrame(split)\n",
    "# zip_to_coord_df.columns = zip_to_coord_df.iloc[0]\n",
    "# zip_to_coord_df.drop(0,inplace=True)\n",
    "# zip_to_coord_df.head()"
   ]
  },
  {
   "cell_type": "code",
   "execution_count": 109,
   "metadata": {
    "ExecuteTime": {
     "end_time": "2019-09-27T16:44:42.387959Z",
     "start_time": "2019-09-27T16:44:42.374250Z"
    },
    "scrolled": false
   },
   "outputs": [
    {
     "data": {
      "text/html": [
       "<div>\n",
       "<style scoped>\n",
       "    .dataframe tbody tr th:only-of-type {\n",
       "        vertical-align: middle;\n",
       "    }\n",
       "\n",
       "    .dataframe tbody tr th {\n",
       "        vertical-align: top;\n",
       "    }\n",
       "\n",
       "    .dataframe thead th {\n",
       "        text-align: right;\n",
       "    }\n",
       "</style>\n",
       "<table border=\"1\" class=\"dataframe\">\n",
       "  <thead>\n",
       "    <tr style=\"text-align: right;\">\n",
       "      <th></th>\n",
       "      <th>index</th>\n",
       "      <th>zip</th>\n",
       "      <th>COORD</th>\n",
       "    </tr>\n",
       "  </thead>\n",
       "  <tbody>\n",
       "    <tr>\n",
       "      <th>0</th>\n",
       "      <td>7 AV BQ</td>\n",
       "      <td>11217</td>\n",
       "      <td>40.68_-73.98</td>\n",
       "    </tr>\n",
       "    <tr>\n",
       "      <th>1</th>\n",
       "      <td>PARK PLACE S</td>\n",
       "      <td>11238</td>\n",
       "      <td>40.68_-73.96</td>\n",
       "    </tr>\n",
       "    <tr>\n",
       "      <th>2</th>\n",
       "      <td>BOTANIC GARDEN S2345</td>\n",
       "      <td>11225</td>\n",
       "      <td>40.66_-73.96</td>\n",
       "    </tr>\n",
       "    <tr>\n",
       "      <th>3</th>\n",
       "      <td>PROSPECT PARK BQS</td>\n",
       "      <td>11226</td>\n",
       "      <td>40.65_-73.96</td>\n",
       "    </tr>\n",
       "    <tr>\n",
       "      <th>4</th>\n",
       "      <td>PARKSIDE AV BQ</td>\n",
       "      <td>11226</td>\n",
       "      <td>40.65_-73.96</td>\n",
       "    </tr>\n",
       "  </tbody>\n",
       "</table>\n",
       "</div>"
      ],
      "text/plain": [
       "                  index    zip         COORD\n",
       "0               7 AV BQ  11217  40.68_-73.98\n",
       "1          PARK PLACE S  11238  40.68_-73.96\n",
       "2  BOTANIC GARDEN S2345  11225  40.66_-73.96\n",
       "3     PROSPECT PARK BQS  11226  40.65_-73.96\n",
       "4        PARKSIDE AV BQ  11226  40.65_-73.96"
      ]
     },
     "execution_count": 109,
     "metadata": {},
     "output_type": "execute_result"
    }
   ],
   "source": [
    "brooklyn_stations_zips['COORD'] = brooklyn_stations_zips['zip'][brooklyn_stations_zips.zip != ''].apply(lambda z: zip_to_geo_dict[z])\n",
    "brooklyn_stations_zips.head()"
   ]
  },
  {
   "cell_type": "code",
   "execution_count": 110,
   "metadata": {
    "ExecuteTime": {
     "end_time": "2019-09-27T16:44:57.592982Z",
     "start_time": "2019-09-27T16:44:57.302777Z"
    },
    "scrolled": true
   },
   "outputs": [
    {
     "data": {
      "text/html": [
       "<div>\n",
       "<style scoped>\n",
       "    .dataframe tbody tr th:only-of-type {\n",
       "        vertical-align: middle;\n",
       "    }\n",
       "\n",
       "    .dataframe tbody tr th {\n",
       "        vertical-align: top;\n",
       "    }\n",
       "\n",
       "    .dataframe thead th {\n",
       "        text-align: right;\n",
       "    }\n",
       "</style>\n",
       "<table border=\"1\" class=\"dataframe\">\n",
       "  <thead>\n",
       "    <tr style=\"text-align: right;\">\n",
       "      <th></th>\n",
       "      <th>C/A</th>\n",
       "      <th>UNIT</th>\n",
       "      <th>SCP</th>\n",
       "      <th>STATION</th>\n",
       "      <th>LINENAME</th>\n",
       "      <th>UNIQUE_STATION</th>\n",
       "      <th>DATE</th>\n",
       "      <th>TIME</th>\n",
       "      <th>DESC</th>\n",
       "      <th>DAY_OF_WEEK</th>\n",
       "      <th>...</th>\n",
       "      <th>LAST_TIME</th>\n",
       "      <th>DAILY_ENTRIES</th>\n",
       "      <th>DAILY_EXITS</th>\n",
       "      <th>DAILY_TOTAL</th>\n",
       "      <th>IN_BK</th>\n",
       "      <th>index</th>\n",
       "      <th>zip</th>\n",
       "      <th>COORD</th>\n",
       "      <th>LAT</th>\n",
       "      <th>LONG</th>\n",
       "    </tr>\n",
       "  </thead>\n",
       "  <tbody>\n",
       "    <tr>\n",
       "      <th>61936</th>\n",
       "      <td>N124</td>\n",
       "      <td>R103</td>\n",
       "      <td>00-03-00</td>\n",
       "      <td>BROADWAY JCT</td>\n",
       "      <td>ACJLZ</td>\n",
       "      <td>BROADWAY JCT ACJLZ</td>\n",
       "      <td>10/13/2018</td>\n",
       "      <td>08:00:00</td>\n",
       "      <td>REGULAR</td>\n",
       "      <td>Saturday</td>\n",
       "      <td>...</td>\n",
       "      <td>12:00:00</td>\n",
       "      <td>403</td>\n",
       "      <td>170</td>\n",
       "      <td>573</td>\n",
       "      <td>True</td>\n",
       "      <td>BROADWAY JCT ACJLZ</td>\n",
       "      <td></td>\n",
       "      <td>NaN</td>\n",
       "      <td>NaN</td>\n",
       "      <td>NaN</td>\n",
       "    </tr>\n",
       "    <tr>\n",
       "      <th>2621</th>\n",
       "      <td>B015</td>\n",
       "      <td>R098</td>\n",
       "      <td>01-03-01</td>\n",
       "      <td>CHURCH AV</td>\n",
       "      <td>BQ</td>\n",
       "      <td>CHURCH AV BQ</td>\n",
       "      <td>09/08/2018</td>\n",
       "      <td>08:00:00</td>\n",
       "      <td>REGULAR</td>\n",
       "      <td>Saturday</td>\n",
       "      <td>...</td>\n",
       "      <td>12:00:00</td>\n",
       "      <td>91</td>\n",
       "      <td>172</td>\n",
       "      <td>263</td>\n",
       "      <td>True</td>\n",
       "      <td>CHURCH AV BQ</td>\n",
       "      <td>11226</td>\n",
       "      <td>[40.65, -73.96]</td>\n",
       "      <td>40.65</td>\n",
       "      <td>-73.96</td>\n",
       "    </tr>\n",
       "    <tr>\n",
       "      <th>28246</th>\n",
       "      <td>D011</td>\n",
       "      <td>R394</td>\n",
       "      <td>01-06-02</td>\n",
       "      <td>BAY PKWY</td>\n",
       "      <td>N</td>\n",
       "      <td>BAY PKWY N</td>\n",
       "      <td>09/02/2018</td>\n",
       "      <td>09:00:00</td>\n",
       "      <td>REGULAR</td>\n",
       "      <td>Sunday</td>\n",
       "      <td>...</td>\n",
       "      <td>13:00:00</td>\n",
       "      <td>728</td>\n",
       "      <td>30</td>\n",
       "      <td>758</td>\n",
       "      <td>True</td>\n",
       "      <td>BAY PKWY N</td>\n",
       "      <td></td>\n",
       "      <td>NaN</td>\n",
       "      <td>NaN</td>\n",
       "      <td>NaN</td>\n",
       "    </tr>\n",
       "    <tr>\n",
       "      <th>74767</th>\n",
       "      <td>N542</td>\n",
       "      <td>R241</td>\n",
       "      <td>00-05-00</td>\n",
       "      <td>15 ST-PROSPECT</td>\n",
       "      <td>FG</td>\n",
       "      <td>15 ST-PROSPECT FG</td>\n",
       "      <td>09/18/2018</td>\n",
       "      <td>08:30:00</td>\n",
       "      <td>REGULAR</td>\n",
       "      <td>Tuesday</td>\n",
       "      <td>...</td>\n",
       "      <td>12:30:00</td>\n",
       "      <td>326</td>\n",
       "      <td>19</td>\n",
       "      <td>345</td>\n",
       "      <td>True</td>\n",
       "      <td>15 ST-PROSPECT FG</td>\n",
       "      <td>11215</td>\n",
       "      <td>[40.67, -73.98]</td>\n",
       "      <td>40.67</td>\n",
       "      <td>-73.98</td>\n",
       "    </tr>\n",
       "  </tbody>\n",
       "</table>\n",
       "<p>4 rows × 27 columns</p>\n",
       "</div>"
      ],
      "text/plain": [
       "        C/A  UNIT       SCP         STATION LINENAME      UNIQUE_STATION  \\\n",
       "61936  N124  R103  00-03-00    BROADWAY JCT    ACJLZ  BROADWAY JCT ACJLZ   \n",
       "2621   B015  R098  01-03-01       CHURCH AV       BQ        CHURCH AV BQ   \n",
       "28246  D011  R394  01-06-02        BAY PKWY        N          BAY PKWY N   \n",
       "74767  N542  R241  00-05-00  15 ST-PROSPECT       FG   15 ST-PROSPECT FG   \n",
       "\n",
       "             DATE      TIME     DESC DAY_OF_WEEK  ... LAST_TIME  \\\n",
       "61936  10/13/2018  08:00:00  REGULAR    Saturday  ...  12:00:00   \n",
       "2621   09/08/2018  08:00:00  REGULAR    Saturday  ...  12:00:00   \n",
       "28246  09/02/2018  09:00:00  REGULAR      Sunday  ...  13:00:00   \n",
       "74767  09/18/2018  08:30:00  REGULAR     Tuesday  ...  12:30:00   \n",
       "\n",
       "       DAILY_ENTRIES  DAILY_EXITS  DAILY_TOTAL  IN_BK               index  \\\n",
       "61936            403          170          573   True  BROADWAY JCT ACJLZ   \n",
       "2621              91          172          263   True        CHURCH AV BQ   \n",
       "28246            728           30          758   True          BAY PKWY N   \n",
       "74767            326           19          345   True   15 ST-PROSPECT FG   \n",
       "\n",
       "         zip            COORD    LAT    LONG  \n",
       "61936                     NaN    NaN     NaN  \n",
       "2621   11226  [40.65, -73.96]  40.65  -73.96  \n",
       "28246                     NaN    NaN     NaN  \n",
       "74767  11215  [40.67, -73.98]  40.67  -73.98  \n",
       "\n",
       "[4 rows x 27 columns]"
      ]
     },
     "execution_count": 110,
     "metadata": {},
     "output_type": "execute_result"
    }
   ],
   "source": [
    "ft_df_zips['COORD'] = ft_df_zips.zip[ft_df_zips.zip != ''].apply(lambda z: zip_to_geo_dict[z].split('_'))\n",
    "ft_df_zips['LAT'] = ft_df_zips.zip[ft_df_zips.zip != ''].apply(lambda z: zip_to_geo_dict[z].split('_')[0])\n",
    "ft_df_zips['LONG'] = ft_df_zips.zip[ft_df_zips.zip != ''].apply(lambda z: zip_to_geo_dict[z].split('_')[1])\n",
    "\n",
    "ft_df_zips.sample(4)"
   ]
  },
  {
   "cell_type": "code",
   "execution_count": 111,
   "metadata": {
    "ExecuteTime": {
     "end_time": "2019-09-27T16:45:20.877610Z",
     "start_time": "2019-09-27T16:45:12.595203Z"
    }
   },
   "outputs": [
    {
     "data": {
      "text/plain": [
       "dict_keys(['type', 'properties', 'geometry'])"
      ]
     },
     "execution_count": 111,
     "metadata": {},
     "output_type": "execute_result"
    }
   ],
   "source": [
    "# from : https://towardsdatascience.com/visualizing-data-at-the-zip-code-level-with-folium-d07ac983db20\n",
    "\n",
    "with open('../data/tl_2010_36_zcta510/nyc_zip_codes_geo.geo.json','r') as jsonFile:\n",
    "    zip_geo_data = json.load(jsonFile)\n",
    "tmp = zip_geo_data\n",
    "    \n",
    "geozips = []\n",
    "for i in range(len(tmp['features'])):\n",
    "    if tmp['features'][i]['properties']['ZCTA5CE10'] in list(ft_df_zips.zip.unique()):\n",
    "        geozips.append(tmp['features'][i])\n",
    "\n",
    "geozips[0].keys()"
   ]
  },
  {
   "cell_type": "code",
   "execution_count": 112,
   "metadata": {
    "ExecuteTime": {
     "end_time": "2019-09-27T16:45:35.920520Z",
     "start_time": "2019-09-27T16:45:35.917730Z"
    }
   },
   "outputs": [],
   "source": [
    "jsonFile.close()"
   ]
  },
  {
   "cell_type": "code",
   "execution_count": 113,
   "metadata": {
    "ExecuteTime": {
     "end_time": "2019-09-27T16:45:50.965206Z",
     "start_time": "2019-09-27T16:45:50.960574Z"
    }
   },
   "outputs": [],
   "source": [
    "new_json = dict.fromkeys(['type','features'])\n",
    "new_json['type'] = 'FeatureCollection'\n",
    "new_json['features'] = geozips"
   ]
  },
  {
   "cell_type": "code",
   "execution_count": 114,
   "metadata": {
    "ExecuteTime": {
     "end_time": "2019-09-27T16:46:06.001501Z",
     "start_time": "2019-09-27T16:46:05.964401Z"
    },
    "scrolled": false
   },
   "outputs": [
    {
     "data": {
      "text/plain": [
       "610684"
      ]
     },
     "execution_count": 114,
     "metadata": {},
     "output_type": "execute_result"
    }
   ],
   "source": [
    "open('../data/update-zip-geojson.json','w').write(\n",
    "    json.dumps(new_json,  separators=(',',':'), indent=4, sort_keys=True)\n",
    ")"
   ]
  },
  {
   "cell_type": "code",
   "execution_count": 118,
   "metadata": {
    "ExecuteTime": {
     "end_time": "2019-09-27T16:59:36.739857Z",
     "start_time": "2019-09-27T16:59:35.667584Z"
    },
    "scrolled": false
   },
   "outputs": [],
   "source": [
    "median_daily_entries = ft_df_zips['DAILY_TOTAL'].quantile(q=0.80)\n",
    "\n",
    "zip_min = ft_df_zips.groupby(['LAT','LONG'])['DAILY_TOTAL'].median().min()\n",
    "zip_max = ft_df_zips.groupby(['LAT','LONG'])['DAILY_TOTAL'].median().max()\n",
    "\n",
    "# Basic map setup\n",
    "\n",
    "folium_map = folium.Map(location=[40.650002, -73.949997],\n",
    "                        zoom_start=11.5,\n",
    "                        min_zoom=11,\n",
    "                        max_zoom=15,\n",
    "                        control_scale=True,\n",
    "                        tiles='CartoDB positron')\n",
    "\n",
    "for index, value in ft_df_zips.groupby(['zip','LAT','LONG'])['DAILY_TOTAL'].median().items():\n",
    "    radius = 3 + 20*(((value - zip_min)/(zip_max - zip_min))**1.2)\n",
    "    color = \"Green\"\n",
    "    zip_mask = ft_df_zips['zip'] == index[0]\n",
    "    columns = ['UNIQUE_STATION','DAILY_TOTAL']\n",
    "    output = ft_df_zips[ft_df_zips['zip'] == index[0]].groupby('STATION')['DAILY_TOTAL'].median().sort_values(ascending=False).to_string().split('\\n')[1:]\n",
    "    html = '<strong style=\"color:green\">Median Entries For Zip ' + str(index[0])+ ': ' + '{:,}'.format(value) + '</strong></br>'\n",
    "    html += '<span>Borough-wide Entry Median: ' + '{:,}'.format(median_daily_entries) + '</span></br>'\n",
    "    html += '<span>Median Household Income: $'+ '{:,}'.format(search.by_zipcode(index[0]).median_household_income) + '</span></br>'\n",
    "    html += '<span>Population: '+ '{:,}'.format(search.by_zipcode(index[0]).population) + '</span></br>'\n",
    "    html += '</br>Best Stations:</br>'\n",
    "    html += '<span>Station Name – Median Entries</span></br>'\n",
    "    for line in output[:5]:\n",
    "        l = [el.strip() for el in line.split('  ')]\n",
    "        cleaned = []\n",
    "        for el in l:\n",
    "            if len(el.strip())>0:\n",
    "                cleaned += [el]\n",
    "        # bold the station if it is above the borough median\n",
    "        prefix = ''\n",
    "        suffix = ''\n",
    "        if float(cleaned[1]) > median_daily_entries:\n",
    "            prefix = '<strong>'\n",
    "            suffix = '</strong>'\n",
    "        html += prefix +  '<div style=\"display:inline\"><span>' + cleaned[0] + ' – ' + '{:,}'.format(float(cleaned[1])) + '</span>' + '</div>'+ suffix + '</br>'\n",
    "    folium.CircleMarker(location=(index[1],index[2]),\n",
    "                        radius=radius,\n",
    "                        color=color,\n",
    "                        popup = folium.Popup(html, max_width=300,min_width=300),\n",
    "                        fill=True).add_to(folium_map)\n",
    "    \n",
    "for index, row in mta_stations_df.iterrows():\n",
    "    radius = 0.1\n",
    "    color = \"blue\"\n",
    "    folium.CircleMarker(location=(row[\"GTFS Latitude\"],\n",
    "                                  row[\"GTFS Longitude\"]),\n",
    "                        radius=radius,\n",
    "                        color=color,\n",
    "                        opacity = 0.3,\n",
    "                        fill_opacity = 0.3,\n",
    "                        fill=True).add_to(folium_map)\n",
    "    \n",
    "legend_html = '''\n",
    "     <div style=\"position: fixed; \n",
    "     bottom: 80px; left: 50px; width: 400px; height: 130px; padding:5px;\n",
    "     border:2px solid grey; z-index:9999; font-size:12px;\n",
    "     background-color: white;\">\n",
    "     <strong style='color:green'>What neighborhoods have high traffic</br>and appropriate demographics?</strong></br>\n",
    "     Each Zipcode is represented by a green circle.</br>\n",
    "     Blue dots are stations.</br>\n",
    "     Size of the green circles represents the relative</br>\n",
    "     amount of foot-traffic for all stations in that zipcode.</br>\n",
    "     <strong>Bolded stations</strong> in popup are above 80th percentile in median traffic.\n",
    "     </div>\n",
    "     '''    \n",
    "\n",
    "# Run a cell with the name of the map to display it in the window\n",
    "folium_map.get_root().html.add_child(folium.Element(legend_html))\n",
    "output_file = \"Folium_Station_Zipcode_Map.html\"\n",
    "folium_map.save(output_file)"
   ]
  },
  {
   "cell_type": "code",
   "execution_count": 116,
   "metadata": {
    "ExecuteTime": {
     "end_time": "2019-09-27T16:46:37.143596Z",
     "start_time": "2019-09-27T16:46:37.125775Z"
    }
   },
   "outputs": [],
   "source": [
    "output = ft_df_zips[ft_df_zips['zip'] == '11230'].groupby('UNIQUE_STATION')['DAILY_TOTAL'].median().to_string().split('\\n')[1:]"
   ]
  },
  {
   "cell_type": "code",
   "execution_count": 347,
   "metadata": {
    "ExecuteTime": {
     "end_time": "2019-09-27T14:17:35.313612Z",
     "start_time": "2019-09-27T14:17:35.310655Z"
    }
   },
   "outputs": [
    {
     "name": "stdout",
     "output_type": "stream",
     "text": [
      "['18 AV F        152.0', 'AVENUE H BQ     37.0', 'AVENUE J BQ    132.0', 'AVENUE M BQ    220.5', 'BAY PKWY F      98.0']\n"
     ]
    }
   ],
   "source": [
    "print(output)"
   ]
  },
  {
   "cell_type": "code",
   "execution_count": 351,
   "metadata": {
    "ExecuteTime": {
     "end_time": "2019-09-27T14:18:34.481457Z",
     "start_time": "2019-09-27T14:18:34.476287Z"
    }
   },
   "outputs": [
    {
     "name": "stdout",
     "output_type": "stream",
     "text": [
      "['18 AV F', '', '152.0']\n",
      "['AVENUE H BQ', '37.0']\n",
      "['AVENUE J BQ', '132.0']\n",
      "['AVENUE M BQ', '220.5']\n",
      "['BAY PKWY F', '', '98.0']\n"
     ]
    }
   ],
   "source": [
    "html = ''\n",
    "for line in output:\n",
    "    l = [el.strip() for el in line.split('   ')]\n",
    "    print(l)\n",
    "    cleaned = []\n",
    "    for el in l:\n",
    "        if len(el.strip())>0:\n",
    "            cleaned += [el]\n",
    "    html += '<div style=\"display:inline\"><strong>' + cleaned[0] + '</strong>' + '<span>' + cleaned[1] + '</span>' + '</div>'"
   ]
  },
  {
   "cell_type": "code",
   "execution_count": null,
   "metadata": {
    "ExecuteTime": {
     "start_time": "2019-09-27T14:18:44.914Z"
    },
    "scrolled": true
   },
   "outputs": [],
   "source": [
    "html"
   ]
  },
  {
   "cell_type": "code",
   "execution_count": 335,
   "metadata": {
    "ExecuteTime": {
     "end_time": "2019-09-27T14:14:58.405111Z",
     "start_time": "2019-09-27T14:14:58.386505Z"
    }
   },
   "outputs": [
    {
     "data": {
      "text/plain": [
       "UNIQUE_STATION\n",
       "36 ST DNR    553\n",
       "Name: DAILY_TOTAL, dtype: int64"
      ]
     },
     "execution_count": 335,
     "metadata": {},
     "output_type": "execute_result"
    }
   ],
   "source": [
    "zip_mask = ft_df_zips['zip'] == index[0]\n",
    "columns = ['UNIQUE_STATION','DAILY_TOTAL']\n",
    "output = ft_df_zips[zip_mask].groupby('UNIQUE_STATION')['DAILY_TOTAL'].median()\n",
    "output"
   ]
  },
  {
   "cell_type": "code",
   "execution_count": 278,
   "metadata": {
    "ExecuteTime": {
     "end_time": "2019-09-27T13:46:25.935793Z",
     "start_time": "2019-09-27T13:46:25.920481Z"
    }
   },
   "outputs": [
    {
     "data": {
      "text/plain": [
       "pandas.core.frame.DataFrame"
      ]
     },
     "execution_count": 278,
     "metadata": {},
     "output_type": "execute_result"
    }
   ],
   "source": [
    "type(ft_df_zips[ft_df_zips['zip'] == '11230'][['UNIQUE_STATION','DAILY_TOTAL']].sort_values(ascending=False,by='DAILY_TOTAL')[:3])"
   ]
  },
  {
   "cell_type": "code",
   "execution_count": 231,
   "metadata": {
    "ExecuteTime": {
     "end_time": "2019-09-27T12:54:44.871434Z",
     "start_time": "2019-09-27T12:54:44.818497Z"
    }
   },
   "outputs": [],
   "source": [
    "zip_min = ft_df_zips.groupby(['LAT','LONG'])['DAILY_TOTALS'].sum().min()\n",
    "zip_max = ft_df_zips.groupby(['LAT','LONG'])['DAILY_ENTRIES'].sum().max()\n",
    "\n",
    "# Basic map setup\n",
    "\n",
    "m = folium.Map(location=[40.650002, -73.949997],\n",
    "                        zoom_start=11.5,\n",
    "                        min_zoom=11,\n",
    "                        max_zoom=13,\n",
    "                        control_scale=True,\n",
    "                        tiles='Stamen Toner')"
   ]
  },
  {
   "cell_type": "code",
   "execution_count": 234,
   "metadata": {
    "ExecuteTime": {
     "end_time": "2019-09-27T12:55:44.872704Z",
     "start_time": "2019-09-27T12:55:44.854051Z"
    }
   },
   "outputs": [
    {
     "ename": "ValueError",
     "evalue": "#fff is not a valid ColorBrewer code",
     "output_type": "error",
     "traceback": [
      "\u001b[0;31m---------------------------------------------------------------------------\u001b[0m",
      "\u001b[0;31mValueError\u001b[0m                                Traceback (most recent call last)",
      "\u001b[0;32m<ipython-input-234-9b3f93bbe643>\u001b[0m in \u001b[0;36m<module>\u001b[0;34m\u001b[0m\n\u001b[1;32m      9\u001b[0m     \u001b[0mcolumns\u001b[0m \u001b[0;34m=\u001b[0m \u001b[0;34m[\u001b[0m\u001b[0;34m'zip'\u001b[0m\u001b[0;34m,\u001b[0m\u001b[0;34m'DAILY_ENTRIES'\u001b[0m\u001b[0;34m]\u001b[0m\u001b[0;34m,\u001b[0m\u001b[0;34m\u001b[0m\u001b[0;34m\u001b[0m\u001b[0m\n\u001b[1;32m     10\u001b[0m     \u001b[0mfill_color\u001b[0m \u001b[0;34m=\u001b[0m \u001b[0;34m'#fff'\u001b[0m\u001b[0;34m,\u001b[0m\u001b[0;34m\u001b[0m\u001b[0;34m\u001b[0m\u001b[0m\n\u001b[0;32m---> 11\u001b[0;31m     \u001b[0mlegend_name\u001b[0m \u001b[0;34m=\u001b[0m \u001b[0;34m'Legened'\u001b[0m\u001b[0;34m\u001b[0m\u001b[0;34m\u001b[0m\u001b[0m\n\u001b[0m\u001b[1;32m     12\u001b[0m )\n\u001b[1;32m     13\u001b[0m \u001b[0;34m\u001b[0m\u001b[0m\n",
      "\u001b[0;32m//anaconda3/lib/python3.7/site-packages/folium/folium.py\u001b[0m in \u001b[0;36mchoropleth\u001b[0;34m(self, *args, **kwargs)\u001b[0m\n\u001b[1;32m    416\u001b[0m         )\n\u001b[1;32m    417\u001b[0m         \u001b[0;32mfrom\u001b[0m \u001b[0mfolium\u001b[0m\u001b[0;34m.\u001b[0m\u001b[0mfeatures\u001b[0m \u001b[0;32mimport\u001b[0m \u001b[0mChoropleth\u001b[0m\u001b[0;34m\u001b[0m\u001b[0;34m\u001b[0m\u001b[0m\n\u001b[0;32m--> 418\u001b[0;31m         \u001b[0mself\u001b[0m\u001b[0;34m.\u001b[0m\u001b[0madd_child\u001b[0m\u001b[0;34m(\u001b[0m\u001b[0mChoropleth\u001b[0m\u001b[0;34m(\u001b[0m\u001b[0;34m*\u001b[0m\u001b[0margs\u001b[0m\u001b[0;34m,\u001b[0m \u001b[0;34m**\u001b[0m\u001b[0mkwargs\u001b[0m\u001b[0;34m)\u001b[0m\u001b[0;34m)\u001b[0m\u001b[0;34m\u001b[0m\u001b[0;34m\u001b[0m\u001b[0m\n\u001b[0m\u001b[1;32m    419\u001b[0m \u001b[0;34m\u001b[0m\u001b[0m\n\u001b[1;32m    420\u001b[0m     \u001b[0;32mdef\u001b[0m \u001b[0mkeep_in_front\u001b[0m\u001b[0;34m(\u001b[0m\u001b[0mself\u001b[0m\u001b[0;34m,\u001b[0m \u001b[0;34m*\u001b[0m\u001b[0margs\u001b[0m\u001b[0;34m)\u001b[0m\u001b[0;34m:\u001b[0m\u001b[0;34m\u001b[0m\u001b[0;34m\u001b[0m\u001b[0m\n",
      "\u001b[0;32m//anaconda3/lib/python3.7/site-packages/folium/features.py\u001b[0m in \u001b[0;36m__init__\u001b[0;34m(self, geo_data, data, columns, key_on, bins, fill_color, nan_fill_color, fill_opacity, nan_fill_opacity, line_color, line_weight, line_opacity, name, legend_name, overlay, control, show, topojson, smooth_factor, highlight, **kwargs)\u001b[0m\n\u001b[1;32m   1044\u001b[0m         \u001b[0mself\u001b[0m\u001b[0;34m.\u001b[0m\u001b[0m_name\u001b[0m \u001b[0;34m=\u001b[0m \u001b[0;34m'Choropleth'\u001b[0m\u001b[0;34m\u001b[0m\u001b[0;34m\u001b[0m\u001b[0m\n\u001b[1;32m   1045\u001b[0m \u001b[0;34m\u001b[0m\u001b[0m\n\u001b[0;32m-> 1046\u001b[0;31m         \u001b[0;32mif\u001b[0m \u001b[0mdata\u001b[0m \u001b[0;32mis\u001b[0m \u001b[0;32mnot\u001b[0m \u001b[0;32mNone\u001b[0m \u001b[0;32mand\u001b[0m \u001b[0;32mnot\u001b[0m \u001b[0mcolor_brewer\u001b[0m\u001b[0;34m(\u001b[0m\u001b[0mfill_color\u001b[0m\u001b[0;34m)\u001b[0m\u001b[0;34m:\u001b[0m\u001b[0;34m\u001b[0m\u001b[0;34m\u001b[0m\u001b[0m\n\u001b[0m\u001b[1;32m   1047\u001b[0m             raise ValueError('Please pass a valid color brewer code to '\n\u001b[1;32m   1048\u001b[0m                              'fill_local. See docstring for valid codes.')\n",
      "\u001b[0;32m//anaconda3/lib/python3.7/site-packages/branca/utilities.py\u001b[0m in \u001b[0;36mcolor_brewer\u001b[0;34m(color_code, n)\u001b[0m\n\u001b[1;32m    147\u001b[0m \u001b[0;34m\u001b[0m\u001b[0m\n\u001b[1;32m    148\u001b[0m     \u001b[0;32mif\u001b[0m \u001b[0mbase_code\u001b[0m \u001b[0;32mnot\u001b[0m \u001b[0;32min\u001b[0m \u001b[0mcore_schemes\u001b[0m\u001b[0;34m:\u001b[0m\u001b[0;34m\u001b[0m\u001b[0;34m\u001b[0m\u001b[0m\n\u001b[0;32m--> 149\u001b[0;31m         \u001b[0;32mraise\u001b[0m \u001b[0mValueError\u001b[0m\u001b[0;34m(\u001b[0m\u001b[0mbase_code\u001b[0m \u001b[0;34m+\u001b[0m \u001b[0;34m' is not a valid ColorBrewer code'\u001b[0m\u001b[0;34m)\u001b[0m\u001b[0;34m\u001b[0m\u001b[0;34m\u001b[0m\u001b[0m\n\u001b[0m\u001b[1;32m    150\u001b[0m \u001b[0;34m\u001b[0m\u001b[0m\n\u001b[1;32m    151\u001b[0m     \u001b[0;32mtry\u001b[0m\u001b[0;34m:\u001b[0m\u001b[0;34m\u001b[0m\u001b[0;34m\u001b[0m\u001b[0m\n",
      "\u001b[0;31mValueError\u001b[0m: #fff is not a valid ColorBrewer code"
     ]
    }
   ],
   "source": [
    "nyc_geo = r'../data/update-zip-geojson.json'\n",
    "\n",
    "m.choropleth(\n",
    "    geo_data = nyc_geo,\n",
    "    fill_opacity = 0.7,\n",
    "    line_opacity = 0.2,\n",
    "    data = ft_df_zips,\n",
    "    key_on = 'feature.properties.ZCTA5CE10',\n",
    "    columns = ['zip','DAILY_ENTRIES'],\n",
    "    fill_color = '#fff',\n",
    "    legend_name = 'Legened'\n",
    ")\n",
    "\n",
    "# for index, value in ft_df_zips.groupby(['LAT','LONG'])['DAILY_ENTRIES'].sum().items():\n",
    "#     radius = 3 + 12*(value - zip_min)/(zip_max - zip_min)\n",
    "#     color = \"Green\"\n",
    "#     folium.CircleMarker(location=(index[0],index[1]),\n",
    "#                         radius=radius,\n",
    "#                         color=color,\n",
    "#                         fill=True).add_to(folium_map)\n",
    "    \n",
    "# Run a cell with the name of the map to display it in the window\n",
    "m.LayerControl().add_to(m)\n",
    "m"
   ]
  },
  {
   "cell_type": "code",
   "execution_count": null,
   "metadata": {},
   "outputs": [],
   "source": []
  }
 ],
 "metadata": {
  "kernelspec": {
   "display_name": "Python 3",
   "language": "python",
   "name": "python3"
  },
  "language_info": {
   "codemirror_mode": {
    "name": "ipython",
    "version": 3
   },
   "file_extension": ".py",
   "mimetype": "text/x-python",
   "name": "python",
   "nbconvert_exporter": "python",
   "pygments_lexer": "ipython3",
   "version": "3.7.3"
  },
  "toc": {
   "base_numbering": 1,
   "nav_menu": {},
   "number_sections": true,
   "sideBar": true,
   "skip_h1_title": false,
   "title_cell": "Table of Contents",
   "title_sidebar": "Contents",
   "toc_cell": true,
   "toc_position": {},
   "toc_section_display": true,
   "toc_window_display": false
  },
  "varInspector": {
   "cols": {
    "lenName": 16,
    "lenType": 16,
    "lenVar": 40
   },
   "kernels_config": {
    "python": {
     "delete_cmd_postfix": "",
     "delete_cmd_prefix": "del ",
     "library": "var_list.py",
     "varRefreshCmd": "print(var_dic_list())"
    },
    "r": {
     "delete_cmd_postfix": ") ",
     "delete_cmd_prefix": "rm(",
     "library": "var_list.r",
     "varRefreshCmd": "cat(var_dic_list()) "
    }
   },
   "position": {
    "height": "682.205px",
    "left": "574.444px",
    "right": "20px",
    "top": "120px",
    "width": "617.778px"
   },
   "types_to_exclude": [
    "module",
    "function",
    "builtin_function_or_method",
    "instance",
    "_Feature"
   ],
   "window_display": false
  }
 },
 "nbformat": 4,
 "nbformat_minor": 2
}
